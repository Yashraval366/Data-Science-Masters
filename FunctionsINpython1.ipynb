{
 "cells": [
  {
   "cell_type": "markdown",
   "id": "7ad13282-908a-4a6b-9b6e-79b207c227f2",
   "metadata": {},
   "source": [
    "Q1. Which keyword is used to create a function? Create a function to return a list of odd numbers in the\n",
    "range of 1 to 25.\n"
   ]
  },
  {
   "cell_type": "code",
   "execution_count": 8,
   "id": "c00b5ed8-0271-47ae-8ecf-d58a8811e44c",
   "metadata": {},
   "outputs": [
    {
     "data": {
      "text/plain": [
       "[1, 3, 5, 7, 9, 11, 13, 15, 17, 19, 21, 23, 25]"
      ]
     },
     "execution_count": 8,
     "metadata": {},
     "output_type": "execute_result"
    }
   ],
   "source": [
    "# The def keyword is used to create a function in Python.\n",
    "\n",
    "def get_odd_numbers():\n",
    "    odd_numbers = []\n",
    "    for i in range(1, 26):\n",
    "        if i % 2 != 0:\n",
    "            odd_numbers.append(i)\n",
    "    return odd_numbers\n",
    "get_odd_numbers()"
   ]
  },
  {
   "cell_type": "markdown",
   "id": "f6a2bfda-f487-4b7d-82bc-6dc7cb1aeaf8",
   "metadata": {},
   "source": [
    "Q2. Why *args and **kwargs is used in some functions? Create a function each for *args and **kwargs to\n",
    "demonstrate their use."
   ]
  },
  {
   "cell_type": "code",
   "execution_count": 20,
   "id": "7acbf90a-d8a4-48ff-b010-f6c3c4ce444d",
   "metadata": {},
   "outputs": [
    {
     "name": "stdout",
     "output_type": "stream",
     "text": [
      "name : yash\n",
      "age : 18\n",
      "country : india\n"
     ]
    }
   ],
   "source": [
    "# *args and **kwargs are special syntax in Python that allows a function to accept an arbitrary number of arguments.\n",
    "# *args is used to pass a variable number of non-keyworded arguments to a function, \n",
    "# while **kwargs is used to pass a variable number of keyworded arguments to a function. \n",
    "\n",
    "def addition(*args):\n",
    "    total = 0\n",
    "    for i in args:\n",
    "        total += i\n",
    "    return total \n",
    "\n",
    "addition(1, 2, 3, 4, 5,)\n",
    "\n",
    "def about(**kwargs):\n",
    "    for key, value in kwargs.items():\n",
    "        print(f\"{key} : {value}\")\n",
    "about(name = \"yash\",age = 18, country = \"india\")"
   ]
  },
  {
   "cell_type": "markdown",
   "id": "2ee10e8c-b7c7-46c8-b3ea-33eb7ae0c2dc",
   "metadata": {},
   "source": [
    "Q3. What is an iterator in python? Name the method used to initialise the iterator object and the method\n",
    "used for iteration. Use these methods to print the first five elements of the given list [2, 4, 6, 8, 10, 12, 14, 16,\n",
    "18, 20]."
   ]
  },
  {
   "cell_type": "code",
   "execution_count": 21,
   "id": "5b99f5e6-e867-4427-8242-38cc1d27470e",
   "metadata": {},
   "outputs": [
    {
     "name": "stdout",
     "output_type": "stream",
     "text": [
      "2\n",
      "4\n",
      "6\n",
      "8\n",
      "10\n"
     ]
    }
   ],
   "source": [
    "# In Python, an iterator is an object that allows you to traverse through a sequence of values one at a time. An iterator implements two methods: __iter__() and __next__().\n",
    "# The __iter__() method is used to initialize the iterator object, and the __next__() method is used to retrieve the next value from the iterator.\n",
    "\n",
    "my_list = [2, 4, 6, 8, 10, 12, 14, 16, 18, 20]\n",
    "my_iterator = iter(my_list)  # initialize the iterator object\n",
    "\n",
    "for i in range(5):\n",
    "    print(next(my_iterator))  # iterate through the first five elements\n"
   ]
  },
  {
   "cell_type": "markdown",
   "id": "d6338e57-0833-431a-a607-953b491ee0dd",
   "metadata": {},
   "source": [
    "Q4. What is a generator function in python? Why yield keyword is used? Give an example of a generator\n",
    "function."
   ]
  },
  {
   "cell_type": "code",
   "execution_count": 26,
   "id": "76543555-b879-4709-81f5-7211ff127ab4",
   "metadata": {
    "tags": []
   },
   "outputs": [
    {
     "name": "stdout",
     "output_type": "stream",
     "text": [
      "0\n",
      "1\n",
      "1\n",
      "2\n",
      "3\n",
      "5\n",
      "8\n",
      "13\n",
      "21\n",
      "34\n"
     ]
    }
   ],
   "source": [
    "# In Python, a generator function is a special type of function that can be used to generate a sequence of values on the fly, without having to store the entire sequence in memory. Generator functions use the yield keyword to generate each value in the sequence one at a time, and pause the function execution until the next value is needed.\n",
    "# The yield keyword is used to return a value from a generator function and pause the function's execution. The function can then be resumed from where it left off, and continue generating the next value in the sequence.\n",
    "\n",
    "def fib(n):\n",
    "    a,b = 0,1\n",
    "    for i in range(n):\n",
    "        yield a\n",
    "        a,b = b,a+b\n",
    "\n",
    "for i in fib(10):\n",
    "    print(i)"
   ]
  },
  {
   "cell_type": "markdown",
   "id": "705dadb9-2d16-4be6-ba28-5da860a9aa65",
   "metadata": {},
   "source": [
    "Q5. Create a generator function for prime numbers less than 1000. Use the next() method to print the first 20 prime numbers."
   ]
  },
  {
   "cell_type": "code",
   "execution_count": 28,
   "id": "df22dd44-19aa-4705-b4c0-a888a44f9f01",
   "metadata": {},
   "outputs": [
    {
     "name": "stdout",
     "output_type": "stream",
     "text": [
      "2\n",
      "3\n",
      "5\n",
      "7\n",
      "11\n",
      "13\n",
      "17\n",
      "19\n",
      "23\n",
      "29\n",
      "31\n",
      "37\n",
      "41\n",
      "43\n",
      "47\n",
      "53\n",
      "59\n",
      "61\n",
      "67\n",
      "71\n"
     ]
    }
   ],
   "source": [
    "def prime_num():\n",
    "    num = [True] * 1000\n",
    "    for i in range(2, 1000):\n",
    "        if num[i]:\n",
    "            yield i\n",
    "            for j in range(i*i, 1000, i):\n",
    "                num[j] = False\n",
    "prime_numbers = prime_num()\n",
    "for i in range(20):\n",
    "    print(next(prime_numbers))"
   ]
  },
  {
   "cell_type": "code",
   "execution_count": null,
   "id": "81884931-b374-4934-8774-81a5358a4981",
   "metadata": {},
   "outputs": [],
   "source": []
  }
 ],
 "metadata": {
  "kernelspec": {
   "display_name": "Python 3 (ipykernel)",
   "language": "python",
   "name": "python3"
  },
  "language_info": {
   "codemirror_mode": {
    "name": "ipython",
    "version": 3
   },
   "file_extension": ".py",
   "mimetype": "text/x-python",
   "name": "python",
   "nbconvert_exporter": "python",
   "pygments_lexer": "ipython3",
   "version": "3.10.8"
  }
 },
 "nbformat": 4,
 "nbformat_minor": 5
}
