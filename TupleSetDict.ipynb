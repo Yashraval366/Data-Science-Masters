{
 "cells": [
  {
   "cell_type": "markdown",
   "id": "838e78e1-e88f-401d-9177-686199ea4582",
   "metadata": {
    "tags": []
   },
   "source": [
    "### Q1. What are the characteristics of the tuples? Is tuple immutable?"
   ]
  },
  {
   "cell_type": "code",
   "execution_count": null,
   "id": "01ad27f0-c9c6-419e-a982-3c139baadf35",
   "metadata": {},
   "outputs": [],
   "source": [
    "A tuple is an ordered collection of elements, similar to a list in Python.\n",
    "1. Tuples are immutable, meaning that once a tuple is created, its contents cannot be changed. This is in contrast to lists, which are mutable and can be modified in-place.\n",
    "2. Tuples are typically used to represent collections of related data that should not be changed. For example, you might use a tuple to represent a point in two-dimensional space, where the x and y coordinates are the two elements of the tuple. Because the coordinates of a point should not change, you would use a tuple instead of a list.\n",
    "3. Tuples are created using parentheses () instead of square brackets [] used for list.\n",
    "4. Tuples can contain elements of different data types, including other tuples, lists, dictionaries and even functions.\n",
    "5.Tuples support indexing and slicing, just like lists."
   ]
  },
  {
   "cell_type": "markdown",
   "id": "d0f68336-0077-4d22-ac44-25f5ae62b27c",
   "metadata": {
    "tags": []
   },
   "source": [
    "### Q2. What are the two tuple methods in python? Give an example of each method. Give a reason why tuples have only two in-built methods as compared to Lists."
   ]
  },
  {
   "cell_type": "code",
   "execution_count": null,
   "id": "7a0abe9a-aab7-4f01-9703-8b366054a1af",
   "metadata": {},
   "outputs": [],
   "source": [
    "The two built-in methods in Python for tuples are:\n",
    "1. count(): This method returns the number of times a specified element appears in the tuple. It takes one argument, which is the element to search for.\n",
    "Example: \n",
    "\n",
    "t = (1, 2, 2, 3, 4, 2)\n",
    "count_of_twos = t.count(2)\n",
    "print(count_of_twos)    # Output: 3\n",
    "\n",
    "2. index(): This method returns the index of the first occurrence of a specified element in the tuple. It takes one argument, which is the element to search for.\n",
    "Example:\n",
    "\n",
    "t = (1, 2, 3, 4, 5)\n",
    "index_of_three = t.index(3)\n",
    "print(index_of_three)  # Output: 2\n"
   ]
  },
  {
   "cell_type": "markdown",
   "id": "3ca7a7eb-a25a-4dcd-a3e2-4633d5d50d0a",
   "metadata": {
    "tags": []
   },
   "source": [
    "### Q3. Which collection datatypes in python do not allow duplicate items? Write a code using a set to remove duplicates from the given list."
   ]
  },
  {
   "cell_type": "code",
   "execution_count": null,
   "id": "d09ef725-b08d-46b2-8ba4-2035883c440d",
   "metadata": {},
   "outputs": [],
   "source": [
    "The collection datatype in Python that does not allow duplicate items is a set."
   ]
  },
  {
   "cell_type": "code",
   "execution_count": 4,
   "id": "75a42dd5-dafc-471b-929c-9a83e563bd8e",
   "metadata": {},
   "outputs": [
    {
     "name": "stdout",
     "output_type": "stream",
     "text": [
      "[1, 2, 3, 4]\n"
     ]
    }
   ],
   "source": [
    "List = [1, 1, 1, 2, 1, 3, 1, 4, 2, 1, 2, 2, 2, 3, 2, 4, 3, 1, 3, 2, 3, 3, 3, 4, 4, 1, 4, 2, 4, 3, 4, 4]\n",
    "my_set = set(List)\n",
    "new_list = list(my_set)\n",
    "print(new_list)  # Output: [1, 2, 3, 4, 5]\n"
   ]
  },
  {
   "cell_type": "markdown",
   "id": "d7ac43dd-fa3d-4ddf-9950-a75e94b41197",
   "metadata": {
    "tags": []
   },
   "source": [
    "### Q4. Explain the difference between the union() and update() methods for a set. Give an example of each method."
   ]
  },
  {
   "cell_type": "code",
   "execution_count": null,
   "id": "e318ba69-4dc0-4ce9-a35e-c1b44cb4e6da",
   "metadata": {},
   "outputs": [],
   "source": [
    "union(): method returns a new set that contains all the unique elements from both sets, without modifying the original sets.\n",
    "\n",
    "update(): method modifies the original set by adding all the unique elements from another set."
   ]
  },
  {
   "cell_type": "code",
   "execution_count": null,
   "id": "4ecea2c6-20fa-4a67-9414-6e92dc08bdee",
   "metadata": {},
   "outputs": [],
   "source": [
    "set1 = {1, 2, 3}\n",
    "set2 = {3, 4, 5}\n",
    "\n",
    "# Using union() method\n",
    "set3 = set1.union(set2)\n",
    "print(set3)  # Output: {1, 2, 3, 4, 5}\n",
    "print(set1)  # Output: {1, 2, 3} (original set1 is not modified)\n",
    "\n",
    "# Using update() method\n",
    "set1.update(set2)\n",
    "print(set1)  # Output: {1, 2, 3, 4, 5} (original set1 is modified)\n"
   ]
  },
  {
   "cell_type": "markdown",
   "id": "d236d5ea-1f9e-469d-b6a0-a89e2d7e3172",
   "metadata": {
    "tags": []
   },
   "source": [
    "### Q5. What is a dictionary? Give an example. Also, state whether a dictionary is ordered or unordered. "
   ]
  },
  {
   "cell_type": "code",
   "execution_count": null,
   "id": "517b234a-be57-45b8-9cd8-bdc330c4bf2c",
   "metadata": {},
   "outputs": [],
   "source": [
    "In Python, a dictionary is a collection of key-value pairs, where each key is associated with a value. Dictionaries are implemented as hash tables, which makes accessing values by key very fast. Dictionary keys must be immutable, and each key must be unique within the dictionary.\n",
    "\n",
    "Here's an example of a dictionary in Python:"
   ]
  },
  {
   "cell_type": "code",
   "execution_count": null,
   "id": "686890bf-7cfe-4de6-a9a6-f00e589a6328",
   "metadata": {},
   "outputs": [],
   "source": [
    "my_dict = {'apple': 2, 'banana': 3, 'orange': 1}\n",
    "print(my_dict['apple'])  # Output: 2\n",
    "print(my_dict['orange'])  # Output: 1"
   ]
  },
  {
   "cell_type": "code",
   "execution_count": null,
   "id": "b7a1c950-c9bb-401c-a3a2-fe5b0ed8efe4",
   "metadata": {},
   "outputs": [],
   "source": [
    "Dictionaries are unordered in Python 3.6 and earlier versions. This means that the order in which the key-value pairs are stored is not guaranteed to be the same as the order in which they were added. However, starting from Python 3.7, dictionaries are guaranteed to maintain the order in which the key-value pairs were added, thanks to a change in the implementation of the CPython interpreter."
   ]
  },
  {
   "cell_type": "markdown",
   "id": "e8832407-2aec-4c8f-8a2b-30191a877709",
   "metadata": {},
   "source": [
    "### Q6. Can we create a nested dictionary? If so, please give an example by creating a simple one-level nested dictionary."
   ]
  },
  {
   "cell_type": "code",
   "execution_count": null,
   "id": "2e0d172b-1030-4ee7-b18f-1da2954c69e6",
   "metadata": {},
   "outputs": [],
   "source": [
    "Yes, we can create nested dictionaries in Python. A nested dictionary is a dictionary that contains another dictionary as a value for one or more of its keys. Here's an example of a one-level nested dictionary:"
   ]
  },
  {
   "cell_type": "code",
   "execution_count": null,
   "id": "567f0878-c706-42e4-acbb-515071222703",
   "metadata": {},
   "outputs": [],
   "source": [
    "my_dict = {\n",
    "    'apple': {'color': 'red', 'price': 0.5},\n",
    "    'banana': {'color': 'yellow', 'price': 0.2},\n",
    "    'orange': {'color': 'orange', 'price': 0.3}\n",
    "}\n",
    "\n",
    "print(my_dict['apple'])  # Output: {'color': 'red', 'price': 0.5}\n",
    "print(my_dict['apple']['color'])  # Output: 'red'\n",
    "print(my_dict['banana']['price'])  # Output: 0.2\n"
   ]
  },
  {
   "cell_type": "markdown",
   "id": "9d378680-2654-4e6d-898f-935b4e8676e2",
   "metadata": {},
   "source": [
    "### Q7. Using setdefault() method, create key named topics in the given dictionary and also add the value of the key as this list ['Python', 'Machine Learning’, 'Deep Learning'] \n"
   ]
  },
  {
   "cell_type": "code",
   "execution_count": 8,
   "id": "ef0e1d19-b7ea-40b0-9fbf-e2709cf177fe",
   "metadata": {},
   "outputs": [
    {
     "name": "stdout",
     "output_type": "stream",
     "text": [
      "{'language': 'Python', 'course': 'Data Science Masters', 'topics': ['Python', 'Machine Learning', 'Deep Learning']}\n"
     ]
    }
   ],
   "source": [
    "dict1 = {'language' : 'Python', 'course': 'Data Science Masters'}\n",
    "dict1.setdefault('topics', ['Python', 'Machine Learning', 'Deep Learning'])\n",
    "print(dict1)\n"
   ]
  },
  {
   "cell_type": "markdown",
   "id": "2ec41be7-dfc9-4356-8d56-21fdb6d19049",
   "metadata": {
    "tags": []
   },
   "source": [
    "### Q8. What are the three view objects in dictionaries? Use the three in-built methods in python to display these three view objects for the given dictionary."
   ]
  },
  {
   "cell_type": "code",
   "execution_count": null,
   "id": "b7de9727-d591-4392-8dda-ecb4d47c63a3",
   "metadata": {},
   "outputs": [],
   "source": [
    "In Python, dictionaries have three view objects that provide a dynamic view of the dictionary's keys, values, or key-value pairs. The three view objects are:\n",
    "\n",
    "dict.keys(): returns a view object that contains the keys of the dictionary.\n",
    "dict.values(): returns a view object that contains the values of the dictionary.\n",
    "dict.items(): returns a view object that contains the key-value pairs of the dictionary."
   ]
  },
  {
   "cell_type": "code",
   "execution_count": 9,
   "id": "5d0f0d1c-5a2a-42c5-a3ae-ba3f67fbc9d1",
   "metadata": {},
   "outputs": [
    {
     "name": "stdout",
     "output_type": "stream",
     "text": [
      "dict_keys(['Sport', 'Teams'])\n",
      "dict_values(['Cricket', ['India', 'Australia', 'England', 'South Africa', 'Sri Lanka', 'New Zealand']])\n",
      "dict_items([('Sport', 'Cricket'), ('Teams', ['India', 'Australia', 'England', 'South Africa', 'Sri Lanka', 'New Zealand'])])\n"
     ]
    }
   ],
   "source": [
    "dict1 = {'Sport': 'Cricket' , 'Teams': ['India', 'Australia', 'England', 'South Africa', 'Sri Lanka', 'New Zealand']}\n",
    "\n",
    "# Display the keys view object\n",
    "print(dict1.keys())\n",
    "\n",
    "# Display the values view object\n",
    "print(dict1.values())  \n",
    "\n",
    "# Display the items view object\n",
    "print(dict1.items())\n"
   ]
  }
 ],
 "metadata": {
  "kernelspec": {
   "display_name": "Python 3 (ipykernel)",
   "language": "python",
   "name": "python3"
  },
  "language_info": {
   "codemirror_mode": {
    "name": "ipython",
    "version": 3
   },
   "file_extension": ".py",
   "mimetype": "text/x-python",
   "name": "python",
   "nbconvert_exporter": "python",
   "pygments_lexer": "ipython3",
   "version": "3.10.8"
  }
 },
 "nbformat": 4,
 "nbformat_minor": 5
}
