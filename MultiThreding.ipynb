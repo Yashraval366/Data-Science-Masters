{
 "cells": [
  {
   "cell_type": "markdown",
   "id": "3d56b05a-c788-4843-b5e8-bc24dd7a9976",
   "metadata": {},
   "source": [
    "#### Q1. What is multithreading in python? hy is it used? Name the module used to handle threads in python"
   ]
  },
  {
   "cell_type": "markdown",
   "id": "d36050fd-c34c-4894-9fc3-f0c7b029aaeb",
   "metadata": {},
   "source": [
    "Multithreading in Python refers to the concurrent execution of multiple threads within a single program. A thread is a lightweight sub-process that can perform tasks concurrently with other threads, sharing the same memory space. Multithreading is used to achieve parallelism, where multiple tasks or operations can be executed simultaneously, improving overall program performance and responsiveness."
   ]
  },
  {
   "cell_type": "markdown",
   "id": "a97fb032-8698-4671-9241-3fd622d34500",
   "metadata": {},
   "source": [
    "In Python, the threading module is commonly used to handle threads. It provides a high-level interface for creating, managing, and synchronizing threads. The threading module allows you to define and start new threads, control their execution, and communicate between threads. It includes features such as thread synchronization mechanisms (e.g., locks, semaphores, condition variables) to manage access to shared resources and avoid conflicts."
   ]
  },
  {
   "cell_type": "code",
   "execution_count": 51,
   "id": "c2bc8bd8-8c51-4d61-9ad6-0898a3413acf",
   "metadata": {},
   "outputs": [
    {
     "name": "stdout",
     "output_type": "stream",
     "text": [
      "1\n",
      "2\n",
      "3\n",
      "4\n",
      "5\n",
      "A\n",
      "B\n",
      "C\n",
      "D\n",
      "E\n",
      "Done\n"
     ]
    }
   ],
   "source": [
    "import threading\n",
    "\n",
    "def print_numbers():\n",
    "    for i in range(1, 6):\n",
    "        print(i)\n",
    "\n",
    "def print_letters():\n",
    "    for letter in 'ABCDE':\n",
    "        print(letter)\n",
    "\n",
    "thread1 = threading.Thread(target=print_numbers)\n",
    "thread2 = threading.Thread(target=print_letters)\n",
    "\n",
    "thread1.start()\n",
    "thread2.start()\n",
    "\n",
    "print(\"Done\")\n"
   ]
  },
  {
   "cell_type": "markdown",
   "id": "4dfb84c9-fccd-405d-b1bf-a7610bbd7443",
   "metadata": {
    "tags": []
   },
   "source": [
    "#### Q2. Why threading module used? rite the use of the following function :\n",
    "     activeCount()\n",
    "     currentThread()\n",
    "     enumerate()"
   ]
  },
  {
   "cell_type": "markdown",
   "id": "4eee6302-1f63-44d1-b73a-4c42a80857e3",
   "metadata": {},
   "source": [
    "1. Concurrency: It allows multiple threads to execute concurrently, enabling parallelism and efficient utilization of system resources.\n",
    "\n",
    "2. Responsiveness: Multithreading can enhance the responsiveness of a program by allowing it to perform multiple tasks simultaneously. For example, it can prevent a user interface from freezing while a time-consuming operation is being executed in the background.\n",
    "\n",
    "3. Efficiency: Multithreading can improve the overall performance of a program by distributing computational tasks across multiple threads and taking advantage of multi-core processors."
   ]
  },
  {
   "cell_type": "markdown",
   "id": "db9816ce-147d-4c3d-9a2e-82c37c5e57e1",
   "metadata": {},
   "source": [
    "1. activeCount(): This function returns the number of Thread objects currently alive. It provides the count of threads that have been created and not yet terminated. Here's an example:"
   ]
  },
  {
   "cell_type": "code",
   "execution_count": 5,
   "id": "db449e80-0e9a-4ada-8b65-50147b70601d",
   "metadata": {},
   "outputs": [
    {
     "name": "stdout",
     "output_type": "stream",
     "text": [
      "8\n"
     ]
    }
   ],
   "source": [
    "import threading\n",
    "\n",
    "print(threading.active_count())\n"
   ]
  },
  {
   "cell_type": "markdown",
   "id": "4d277afd-5e3a-48ca-9909-c167fe795275",
   "metadata": {},
   "source": [
    "2. currentThread(): This function returns the Thread object representing the current thread of execution. It can be useful for identifying and manipulating the current thread. Here's an example:"
   ]
  },
  {
   "cell_type": "code",
   "execution_count": 30,
   "id": "a23025f8-c655-433b-9cf3-d44f459c3152",
   "metadata": {},
   "outputs": [
    {
     "name": "stdout",
     "output_type": "stream",
     "text": [
      "<bound method Thread.getName of <_MainThread(MainThread, started 140473822578496)>>\n"
     ]
    }
   ],
   "source": [
    "import threading\n",
    "\n",
    "current_thread = threading.current_thread()\n",
    "print(current_thread.getName)"
   ]
  },
  {
   "cell_type": "markdown",
   "id": "3fa054dc-6fc6-4baf-b088-d807fa77ce81",
   "metadata": {},
   "source": [
    "3. enumerate(): This function returns a list of all Thread objects currently alive. It provides a way to iterate over all active threads. Here's an example:"
   ]
  },
  {
   "cell_type": "code",
   "execution_count": 34,
   "id": "e73f6662-92de-40fd-8f1e-9dc4b5bc97bc",
   "metadata": {},
   "outputs": [
    {
     "name": "stdout",
     "output_type": "stream",
     "text": [
      "<bound method Thread.getName of <_MainThread(MainThread, started 140473822578496)>>\n",
      "<bound method Thread.getName of <Thread(IOPub, started daemon 140473683408448)>>\n",
      "<bound method Thread.getName of <Heartbeat(Heartbeat, started daemon 140473675015744)>>\n",
      "<bound method Thread.getName of <Thread(Thread-3 (_watch_pipe_fd), started daemon 140473649837632)>>\n",
      "<bound method Thread.getName of <Thread(Thread-4 (_watch_pipe_fd), started daemon 140473641444928)>>\n",
      "<bound method Thread.getName of <ControlThread(Control, started daemon 140473633052224)>>\n",
      "<bound method Thread.getName of <HistorySavingThread(IPythonHistorySavingThread, started 140473280755264)>>\n",
      "<bound method Thread.getName of <ParentPollerUnix(Thread-2, started daemon 140473272362560)>>\n"
     ]
    }
   ],
   "source": [
    "import threading\n",
    "\n",
    "for thread in threading.enumerate():\n",
    "    print(thread.getName)\n"
   ]
  },
  {
   "cell_type": "markdown",
   "id": "8b39031e-0da5-472b-bd94-0e14eb9f534e",
   "metadata": {},
   "source": [
    "#### Q3. Explain the following functions :\n",
    "    run()\n",
    "    start()\n",
    "    join()\n",
    "    isAlive()"
   ]
  },
  {
   "cell_type": "markdown",
   "id": "e6de0f3c-b6ae-444c-a124-e653f2e5a29a",
   "metadata": {},
   "source": [
    "1. run(): The run() function is not a specific function from the threading module. Instead, it is a method that you can override in your own thread subclass. When you create a custom thread class by inheriting from threading.Thread, you can define the behavior of the thread's execution by implementing the run() method. The run() method contains the code that will be executed when the thread starts. You should override this method to define the desired functionality of your thread."
   ]
  },
  {
   "cell_type": "markdown",
   "id": "e8d385a8-8dbb-485b-b162-f53957ea07c6",
   "metadata": {},
   "source": [
    "2. start(): The start() function is used to start a thread's execution. It initializes the thread and calls the run() method internally. Once the start() method is invoked, the thread transitions from the \"initialized\" state to the \"runnable\" state. The operating system scheduler then determines when to allocate processor time to the thread. It's important to note that you should never call the run() method directly. Always use start() to properly initiate the execution of a thread."
   ]
  },
  {
   "cell_type": "markdown",
   "id": "8289d512-3013-4180-a2f5-119f326663e2",
   "metadata": {},
   "source": [
    "3. join(): The join() function is used to wait for a thread to complete its execution. When a thread is started with start(), the program continues to execute without waiting for the thread to finish. If you want the main program to pause and wait for a particular thread to finish, you can use the join() method on that thread. The join() method blocks the execution of the calling thread until the specified thread terminates. This allows for synchronization between threads, ensuring that the main program doesn't proceed until the desired thread has finished its execution."
   ]
  },
  {
   "cell_type": "markdown",
   "id": "8e9e14c0-2e67-4b3e-b234-cb431e1639ae",
   "metadata": {},
   "source": [
    "4. isAlive(): The isAlive() function is used to check if a thread is currently alive or active. It returns True if the thread is still running or has not yet been terminated, and False otherwise. By using isAlive(), you can determine the status of a thread and make decisions based on its current state. It can be particularly useful when you want to perform certain actions depending on whether a thread is still running or has completed its execution."
   ]
  },
  {
   "cell_type": "code",
   "execution_count": 35,
   "id": "65a9de88-28c8-4a56-9b2e-10f8217bb32c",
   "metadata": {},
   "outputs": [
    {
     "name": "stdout",
     "output_type": "stream",
     "text": [
      "CustomThread is running\n",
      "Main thread finished\n"
     ]
    }
   ],
   "source": [
    "import threading\n",
    "\n",
    "class CustomThread(threading.Thread):\n",
    "    def run(self):\n",
    "        print(\"CustomThread is running\")\n",
    "\n",
    "# Create an instance of the custom thread\n",
    "thread = CustomThread()\n",
    "\n",
    "# Start the thread\n",
    "thread.start()\n",
    "\n",
    "# Wait for the thread to complete\n",
    "thread.join()\n",
    "\n",
    "print(\"Main thread finished\")\n"
   ]
  },
  {
   "cell_type": "markdown",
   "id": "673e95db-abc9-488e-a1ec-d77b97c69823",
   "metadata": {},
   "source": [
    "#### Q4. Write a python program to create two threads. Thread one must print the list of squares and thread two must print the list of cubes"
   ]
  },
  {
   "cell_type": "code",
   "execution_count": 55,
   "id": "5fbd7bcb-e0aa-4020-932a-34723be128a2",
   "metadata": {},
   "outputs": [
    {
     "name": "stdout",
     "output_type": "stream",
     "text": [
      "[1, 4, 9, 16, 25, 36, 49, 64, 81]\n",
      "[1, 8, 27, 64, 125, 216, 343, 512, 729]\n",
      "Program finished\n"
     ]
    }
   ],
   "source": [
    "import threading\n",
    "\n",
    "n1 = []\n",
    "n2 = []\n",
    "def print_squares():\n",
    "    for i in range(1, 10):\n",
    "        n1.append(i*i)\n",
    "    print(n1)\n",
    "\n",
    "def print_cubes():\n",
    "    for i in range(1, 10):\n",
    "        n2.append(i*i*i)\n",
    "    print(n2)\n",
    "    \n",
    "thread1 = threading.Thread(target=print_squares)\n",
    "thread2 = threading.Thread(target=print_cubes)\n",
    "\n",
    "thread1.start()\n",
    "thread2.start()\n",
    "\n",
    "thread1.join()\n",
    "thread2.join()\n",
    "\n",
    "print(\"Program finished\")"
   ]
  },
  {
   "cell_type": "markdown",
   "id": "5d5c1d4b-1c5a-4cd7-b2a1-08fa6353920c",
   "metadata": {},
   "source": [
    "#### Q5. State advantages and disadvantages of multithreading"
   ]
  },
  {
   "cell_type": "markdown",
   "id": "a151d883-b14d-408b-b56b-4dca682b54e7",
   "metadata": {},
   "source": [
    "Advantages of Multithreading:\n",
    "\n",
    "    1. Concurrency and Responsiveness: Multithreading allows multiple tasks or operations to be executed concurrently, enabling better utilization of system resources and improving responsiveness. It prevents a single task from blocking the entire program.\n",
    "\n",
    "    2. Improved Performance: By leveraging multiple threads, a program can achieve parallelism, executing tasks simultaneously. This can result in improved performance, especially for computationally intensive or I/O-bound operations, as the tasks can be distributed among multiple CPU cores.\n",
    "\n",
    "    3. Resource Sharing: Threads share the same memory space, allowing efficient sharing of data and resources between threads without the need for complex inter-process communication mechanisms.\n",
    "\n",
    "    4. Simplified Program Structure: Multithreading can simplify the program structure by breaking down complex tasks into smaller, manageable threads. It allows for modular and easier-to-maintain code."
   ]
  },
  {
   "cell_type": "markdown",
   "id": "15a585b3-e994-4d3d-81b8-3ad95fcb875a",
   "metadata": {},
   "source": [
    "Disadvantages of Multithreading:\n",
    "\n",
    "    1. Complexity and Synchronization: Multithreading introduces complexity to the program logic. Proper synchronization mechanisms, such as locks or semaphores, must be used to coordinate access to shared resources and avoid race conditions, deadlocks, and other concurrency issues. Synchronization can be challenging to implement correctly.\n",
    "\n",
    "    2. Increased Overhead: Multithreading comes with overhead due to the creation, management, and switching of threads. This overhead can affect performance, especially if there are excessive context switches or contention for shared resources.\n",
    "\n",
    "    3. Debugging and Testing: Multithreaded programs can be harder to debug and test compared to single-threaded programs. Issues such as race conditions or thread synchronization errors may occur sporadically and be challenging to reproduce and diagnose.\n",
    "\n",
    "    4. Increased Complexity in Design and Maintenance: Designing and maintaining multithreaded programs requires careful consideration of thread safety, resource management, and coordination between threads. It can be more complex than developing single-threaded applications, requiring specialized knowledge and expertise."
   ]
  },
  {
   "cell_type": "markdown",
   "id": "ba260399-e0ca-4f5f-a1e1-4ceee8f251f8",
   "metadata": {
    "tags": []
   },
   "source": [
    "#### Q6. Explain deadlocks and race conditions."
   ]
  },
  {
   "cell_type": "markdown",
   "id": "a19c771f-2cdb-4b45-b7dd-3623181b3c19",
   "metadata": {},
   "source": [
    "Deadlocks and race conditions are common concurrency issues that can occur in multithreaded or concurrent programs. Let's explain each of them:"
   ]
  },
  {
   "cell_type": "markdown",
   "id": "f18d935a-5bee-45c1-b1d2-51d1464f19af",
   "metadata": {},
   "source": [
    "1. Deadlock: A deadlock is a situation where two or more threads are blocked indefinitely, waiting for each other to release resources that they hold. In other words, it's a state in which each thread is unable to proceed because the resources it needs are held by other waiting threads, creating a circular dependency.\n",
    "\n",
    "Deadlocks occur when the following four conditions are satisfied simultaneously:\n",
    "\n",
    "Mutual Exclusion: At least one resource is non-shareable (exclusive access).\n",
    "Hold and Wait: A thread holds a resource while waiting to acquire other resources.\n",
    "No Preemption: Resources cannot be forcibly taken from threads.\n",
    "Circular Wait: A circular chain of two or more threads exists, where each thread is waiting for a resource held by another thread in the chain.\n",
    "Deadlocks can be difficult to detect and resolve. They can lead to program freezes or lockups, causing significant disruptions in the execution of the program."
   ]
  },
  {
   "cell_type": "markdown",
   "id": "7921c2bf-1b3e-4742-b6d8-57b9889fac9a",
   "metadata": {},
   "source": [
    "2. Race Condition: A race condition occurs when the behavior of a program depends on the relative execution order of multiple threads or processes. It arises when two or more threads access shared resources or modify shared data concurrently without proper synchronization.\n",
    "\n",
    "Race conditions can lead to unpredictable and erroneous program behavior, such as incorrect outputs or crashes. They typically occur when threads attempt to read and write shared data simultaneously without proper coordination, resulting in data inconsistencies.\n",
    "\n",
    "Race conditions can be challenging to debug and reproduce as they are often timing-dependent. They require careful synchronization mechanisms, such as locks, semaphores, or atomic operations, to ensure thread safety and prevent simultaneous conflicting access to shared resources.\n",
    "\n"
   ]
  },
  {
   "cell_type": "code",
   "execution_count": null,
   "id": "b5870714-62bb-4c62-9ba4-013711e43649",
   "metadata": {},
   "outputs": [],
   "source": []
  }
 ],
 "metadata": {
  "kernelspec": {
   "display_name": "Python 3 (ipykernel)",
   "language": "python",
   "name": "python3"
  },
  "language_info": {
   "codemirror_mode": {
    "name": "ipython",
    "version": 3
   },
   "file_extension": ".py",
   "mimetype": "text/x-python",
   "name": "python",
   "nbconvert_exporter": "python",
   "pygments_lexer": "ipython3",
   "version": "3.10.8"
  }
 },
 "nbformat": 4,
 "nbformat_minor": 5
}
