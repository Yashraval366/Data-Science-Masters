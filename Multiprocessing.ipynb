{
 "cells": [
  {
   "cell_type": "markdown",
   "id": "a3efab27-bf4a-437e-b75e-a8dffad8ad34",
   "metadata": {},
   "source": [
    "#### Q1. What is multiprocessing in python? Why is it useful?"
   ]
  },
  {
   "cell_type": "markdown",
   "id": "0034b06f-159f-41a8-ae24-d996187d0cf8",
   "metadata": {},
   "source": [
    "In Python, multiprocessing is a module that allows the execution of multiple processes concurrently, taking advantage of multiple CPU cores in order to achieve parallelism. It provides a way to run separate processes that can execute independently and simultaneously."
   ]
  },
  {
   "cell_type": "markdown",
   "id": "2ae0efd1-7019-43c9-9799-8ee42024e613",
   "metadata": {},
   "source": [
    "Multiprocessing is useful in several scenarios:\n",
    "\n",
    "   1. Performance Improvement: When dealing with computationally intensive tasks or tasks that can be executed independently, multiprocessing allows you to divide the workload among multiple processes and utilize multiple CPU cores. This can significantly improve the execution time and overall performance of your program.\n",
    "\n",
    "   2. Parallelism: By utilizing multiple processes, multiprocessing enables parallel execution of tasks. Each process runs in its own memory space and can execute tasks concurrently, allowing you to tackle multiple tasks simultaneously. This is especially beneficial when you have tasks that don't depend on each other and can be executed independently.\n",
    "\n",
    "   3. CPU-bound Tasks: If your program involves tasks that consume a lot of CPU resources, multiprocessing can help distribute the load across multiple cores. This prevents a single CPU core from becoming a bottleneck and allows you to make the most efficient use of your system's resources.\n",
    "\n",
    "   4. GIL (Global Interpreter Lock) Bypass: Python's Global Interpreter Lock limits the execution of multiple threads within a single process. However, multiprocessing overcomes this limitation by creating separate Python interpreter processes, each with its own memory space and GIL. This enables true parallelism by utilizing multiple CPU cores, unlike threading, which is more suitable for I/O-bound tasks.\n",
    "\n",
    "   5. Fault Isolation: Since each process runs in its own memory space, errors or crashes in one process generally do not affect others. This enhances fault isolation and makes it easier to manage and debug complex applications.\n",
    "\n"
   ]
  },
  {
   "cell_type": "markdown",
   "id": "b0522bec-8878-491a-b721-cbc5a9fb1bb1",
   "metadata": {},
   "source": [
    "#### Q2. What are the differences between multiprocessing and multithreading?"
   ]
  },
  {
   "cell_type": "markdown",
   "id": "c294ee6f-11ea-4460-9639-707727952418",
   "metadata": {},
   "source": [
    "Multiprocessing and multithreading are two different approaches to achieving concurrent execution in a program. Here are the key differences between the two:"
   ]
  },
  {
   "cell_type": "markdown",
   "id": "a6604a27-6f86-4d3d-9561-49df73867e95",
   "metadata": {},
   "source": [
    "Execution Model:\n",
    "\n",
    "    Multiprocessing: In multiprocessing, multiple processes are created, each with its own memory space and interpreter instance. These processes can run in parallel and execute tasks independently. Communication between processes usually involves inter-process communication mechanisms such as pipes or queues.\n",
    "    Multithreading: In multithreading, multiple threads are created within a single process, and they share the same memory space and interpreter instance. Threads can run concurrently, but due to the Global Interpreter Lock (GIL) in CPython, only one thread can execute Python bytecode at a time. This makes multithreading suitable for I/O-bound tasks but less effective for CPU-bound tasks.\n",
    "    \n",
    "Concurrency vs. Parallelism:\n",
    "\n",
    "    Multiprocessing: Multiprocessing achieves true parallelism by running processes on separate CPU cores, allowing them to execute simultaneously. It takes advantage of multiple cores to improve performance and execute tasks in parallel.\n",
    "    Multithreading: Multithreading achieves concurrency, meaning multiple threads can be scheduled to run concurrently. However, due to the GIL in CPython, only one thread can execute Python bytecode at a time, limiting the effectiveness of parallel execution on multiple CPU cores.\n",
    "\n",
    "Memory Isolation:\n",
    "\n",
    "    Multiprocessing: Each process has its own memory space, which provides strong isolation between processes. Memory changes in one process do not directly affect the memory of other processes.\n",
    "    Multithreading: Threads within a process share the same memory space, which means they can directly access and modify shared data. However, this shared memory can introduce complexities and potential issues like race conditions and the need for synchronization mechanisms (e.g., locks) to ensure data integrity.\n",
    "    \n",
    "Fault Isolation:\n",
    "\n",
    "    Multiprocessing: Errors or crashes in one process generally do not affect other processes. Each process runs independently, so fault isolation is inherent.\n",
    "    Multithreading: Errors in one thread can potentially crash the entire process, as they share the same memory space. Debugging multithreaded programs can be more challenging due to shared memory and potential thread interactions."
   ]
  },
  {
   "cell_type": "markdown",
   "id": "1e1d6a0a-3bdb-49a5-9cd3-715d6d1db1d2",
   "metadata": {},
   "source": [
    "#### Q3. Write a python code to create a process using the multiprocessing module."
   ]
  },
  {
   "cell_type": "code",
   "execution_count": 4,
   "id": "9e014881-cb9a-4a95-9534-46899f3660d1",
   "metadata": {},
   "outputs": [
    {
     "name": "stdout",
     "output_type": "stream",
     "text": [
      "Hello, pw skills!\n"
     ]
    }
   ],
   "source": [
    "import multiprocessing\n",
    "\n",
    "def my_function(name):\n",
    "    print(f\"Hello, {name}!\")\n",
    "\n",
    "if __name__ == '__main__':\n",
    "    # Create a new process\n",
    "    p = multiprocessing.Process(target=my_function, args=('pw skills',))\n",
    "\n",
    "    # Start the process\n",
    "    p.start()\n",
    "\n",
    "    # Wait for the process to complete\n",
    "    p.join()\n",
    "\n",
    "    # The code here will be executed after the process has finished\n"
   ]
  },
  {
   "cell_type": "markdown",
   "id": "5894bc92-37a4-46f5-b1c9-5569635495b2",
   "metadata": {},
   "source": [
    "#### Q4. What is a multiprocessing pool in python? Why is it used?"
   ]
  },
  {
   "cell_type": "markdown",
   "id": "84104021-1e79-4ecc-995c-d9a0a52aeac1",
   "metadata": {},
   "source": [
    "In Python, a multiprocessing pool is a mechanism provided by the multiprocessing module that allows for efficient distribution of tasks among a specified number of processes. It provides a convenient way to parallelize the execution of a function across multiple inputs or tasks."
   ]
  },
  {
   "cell_type": "markdown",
   "id": "bb334746-34a7-474e-b164-f19da5aa907e",
   "metadata": {},
   "source": [
    "Here's an overview of how multiprocessing pools work and why they are used:\n",
    "\n",
    "    Process Pool:\n",
    "\n",
    "    A process pool consists of a fixed number of worker processes that are created to perform tasks in parallel.\n",
    "    The number of worker processes in the pool is typically set based on the available CPU cores or the desired level of parallelism.\n",
    "    Once the pool is created, the worker processes remain idle until tasks are assigned to them.\n",
    "\n",
    "    Task Distribution:\n",
    "\n",
    "    The main purpose of a multiprocessing pool is to distribute tasks across the worker processes for parallel execution.\n",
    "    You can submit tasks to the pool by applying a function to multiple inputs or by creating an iterable of tasks.\n",
    "    The pool takes care of assigning tasks to available worker processes, ensuring efficient utilization of system resources.\n",
    "\n",
    "    Load Balancing:\n",
    "\n",
    "    Multiprocessing pools implement load balancing by automatically assigning tasks to idle worker processes as soon as they become available.\n",
    "    This ensures that all worker processes are utilized optimally and tasks are evenly distributed across the available resources.\n",
    "\n",
    "    Result Aggregation:\n",
    "\n",
    "    After submitting tasks to the pool, you can collect the results using various methods provided by the pool object.\n",
    "    The pool allows you to retrieve the results in the order they were submitted or as soon as they become available, depending on your requirements.\n",
    "\n",
    "The benefits of using multiprocessing pools include:\n",
    "\n",
    "    Performance Improvement:\n",
    "\n",
    "    By distributing tasks across multiple processes, multiprocessing pools leverage parallel processing to improve the overall performance of your program.\n",
    "    They allow you to take advantage of multiple CPU cores and achieve faster execution times, particularly for CPU-bound tasks.\n",
    "\n",
    "    Simplified Parallelization:\n",
    "\n",
    "    Multiprocessing pools provide a high-level interface that abstracts away the complexities of process management and task distribution.\n",
    "    They simplify the parallelization of tasks, as you don't have to manually create and manage individual processes.\n",
    "\n",
    "    Resource Management:\n",
    "\n",
    "    Multiprocessing pools automatically manage the creation and management of worker processes, making efficient use of system resources.\n",
    "    The number of worker processes can be adjusted based on the available resources and the nature of the tasks."
   ]
  },
  {
   "cell_type": "markdown",
   "id": "57455bd2-3bfd-4ebf-8133-a4c2149e96d2",
   "metadata": {},
   "source": [
    "#### Q5. How can we create a pool of worker processes in python using the multiprocessing module?"
   ]
  },
  {
   "cell_type": "code",
   "execution_count": 5,
   "id": "cc8ca5ed-0fc5-4a70-a6fc-02061f1cc7e8",
   "metadata": {},
   "outputs": [
    {
     "name": "stdout",
     "output_type": "stream",
     "text": [
      "[2, 4, 6, 8, 10]\n"
     ]
    }
   ],
   "source": [
    "import multiprocessing\n",
    "\n",
    "def process_task(number):\n",
    "    result = number * 2\n",
    "    return result\n",
    "\n",
    "if __name__ == '__main__':\n",
    "    # Create a multiprocessing pool with 4 worker processes\n",
    "    pool = multiprocessing.Pool(processes=4)\n",
    "\n",
    "    # Create a list of input data\n",
    "    input_data = [1, 2, 3, 4, 5]\n",
    "\n",
    "    # Apply the process_task function to the input data using the pool\n",
    "    results = pool.map(process_task, input_data)\n",
    "\n",
    "    # Close the pool to prevent any more tasks from being submitted\n",
    "    pool.close()\n",
    "\n",
    "    # Wait for the worker processes to finish\n",
    "    pool.join()\n",
    "\n",
    "    # results\n",
    "    print(results)\n"
   ]
  },
  {
   "cell_type": "markdown",
   "id": "625a08b3-a449-41b1-8721-703af9aad572",
   "metadata": {},
   "source": [
    "#### Q6. Write a python program to create 4 processes, each process should print a different number using the multiprocessing module in python."
   ]
  },
  {
   "cell_type": "code",
   "execution_count": 7,
   "id": "2653223d-23a5-4d26-9aaa-df03c9ccedcc",
   "metadata": {},
   "outputs": [
    {
     "name": "stdout",
     "output_type": "stream",
     "text": [
      "1\n",
      "2\n",
      "3\n",
      "4\n"
     ]
    }
   ],
   "source": [
    "import multiprocessing\n",
    "\n",
    "def print_number(number):\n",
    "    print(number)\n",
    "\n",
    "if __name__ == '__main__':\n",
    "    \n",
    "    # Create a list of numbers\n",
    "    numbers = [1, 2, 3, 4]\n",
    "\n",
    "    # Create a process for each number in the list\n",
    "    processes = []\n",
    "    for number in numbers:\n",
    "        process = multiprocessing.Process(target=print_number, args=(number,))\n",
    "        processes.append(process)\n",
    "\n",
    "    # Start all the processes\n",
    "    for process in processes:\n",
    "        process.start()\n",
    "\n",
    "    # Wait for all the processes to complete\n",
    "    for process in processes:\n",
    "        process.join()\n"
   ]
  },
  {
   "cell_type": "code",
   "execution_count": null,
   "id": "9146c490-4f4f-4879-89b8-a25b471a78fb",
   "metadata": {},
   "outputs": [],
   "source": []
  }
 ],
 "metadata": {
  "kernelspec": {
   "display_name": "Python 3 (ipykernel)",
   "language": "python",
   "name": "python3"
  },
  "language_info": {
   "codemirror_mode": {
    "name": "ipython",
    "version": 3
   },
   "file_extension": ".py",
   "mimetype": "text/x-python",
   "name": "python",
   "nbconvert_exporter": "python",
   "pygments_lexer": "ipython3",
   "version": "3.10.8"
  }
 },
 "nbformat": 4,
 "nbformat_minor": 5
}
