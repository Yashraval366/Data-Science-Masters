{
 "cells": [
  {
   "cell_type": "markdown",
   "id": "895eb399-38ee-4a98-8a54-a2b6d8058b44",
   "metadata": {},
   "source": [
    "#### Q1. What is a database? Differentiate between SQL and NoSQL databases."
   ]
  },
  {
   "cell_type": "markdown",
   "id": "f9db1335-0557-464e-8622-a8dfdb1c5a63",
   "metadata": {},
   "source": [
    "A database is a structured collection of data that is organized and stored in a computer system. It allows users to efficiently manage, retrieve, and manipulate large amounts of information. Databases provide a way to store data persistently, ensuring its durability and availability for various applications."
   ]
  },
  {
   "cell_type": "markdown",
   "id": "4cbc3552-3640-4704-b272-c3645a3f5337",
   "metadata": {},
   "source": [
    "SQL Databases:\n",
    "\n",
    "    SQL (Structured Query Language) databases are based on the relational model.\n",
    "    They use SQL as the standard language for defining, manipulating, and querying the data. \n",
    "    SQL databases consist of tables with rows and columns, where each row represents a record, and each column represents a data attribute. \n",
    "    These databases ensure data integrity and enforce relationships between tables through the use of primary and foreign keys. \n",
    "    SQL databases are known for their ACID (Atomicity, Consistency, Isolation, Durability) properties, which guarantee transactional reliability. \n",
    "    Some popular SQL databases include MySQL, Oracle Database, PostgreSQL, and Microsoft SQL Server.\n",
    "\n",
    "NoSQL Databases:\n",
    "\n",
    "    NoSQL (Not Only SQL) databases adopt a non-relational approach to data storage and retrieval. \n",
    "    They provide flexible schema designs that can handle unstructured and semi-structured data. \n",
    "    NoSQL databases are designed to scale horizontally and handle large volumes of data with high availability and performance. \n",
    "    They support a variety of data models, including key-value pairs, wide-column stores, document stores, and graph databases. \n",
    "    NoSQL databases prioritize scalability, flexibility, and distributed architectures over strict data consistency. \n",
    "    Examples of popular NoSQL databases include MongoDB, Cassandra, Redis, and Neo4j."
   ]
  },
  {
   "cell_type": "markdown",
   "id": "fb041a44-0709-47a4-95e1-e5a21856a4a0",
   "metadata": {
    "tags": []
   },
   "source": [
    "#### Q2. What is DDL? Explain why CREATE, DROP, ALTER, and TRUNCATE are used with an example."
   ]
  },
  {
   "cell_type": "markdown",
   "id": "30ab58cd-30e3-485b-b34b-96e503c7d0c9",
   "metadata": {},
   "source": [
    "DDL stands for Data Definition Language, which is a subset of SQL used to define and manage the structure and schema of a database. DDL statements are used to create, modify, and delete database objects such as tables, indexes, views, and constraints. Here's an explanation of commonly used DDL statements and their purposes:\n",
    "\n"
   ]
  },
  {
   "cell_type": "markdown",
   "id": "660da6ea-0b74-4790-9162-1c28f2c07d28",
   "metadata": {},
   "source": [
    "1.CREATE:\n",
    "The CREATE statement is used to create new database objects. For example, to create a table named \"Employees\" with columns for employee ID, name, and salary, you would use the following SQL statement:\n",
    "\n",
    "    CREATE TABLE Employees (\n",
    "        EmployeeID INT,\n",
    "        Name VARCHAR(50),\n",
    "        Salary DECIMAL(10, 2)\n",
    "    );\n",
    "    \n",
    "This statement creates a new table named \"Employees\" with three columns: \"EmployeeID\" of type INT, \"Name\" of type VARCHAR with a maximum length of 50 characters, and \"Salary\" of type DECIMAL with a precision of 10 and a scale of 2."
   ]
  },
  {
   "cell_type": "markdown",
   "id": "8275fff7-1eec-443d-ab43-7bc61874cc53",
   "metadata": {},
   "source": [
    "2.DROP:\n",
    "The DROP statement is used to remove database objects. For instance, to drop the \"Employees\" table created earlier, you would use the following SQL statement:\n",
    "\n",
    "    DROP TABLE Employees;\n",
    "    \n",
    "This statement removes the \"Employees\" table and deletes all the associated data and indexes."
   ]
  },
  {
   "cell_type": "markdown",
   "id": "24d1fd94-bc1f-4c7f-a691-e2cf3f2b7fca",
   "metadata": {},
   "source": [
    "3.ALTER:\n",
    "The ALTER statement is used to modify the structure of existing database objects. It allows you to add, modify, or delete columns, constraints, or indexes. For example, to add a new column named \"Department\" to the \"Employees\" table, you would use the following SQL statement:\n",
    "\n",
    "    ALTER TABLE Employees\n",
    "    ADD Department VARCHAR(50);\n",
    "    \n",
    "This statement adds a new column named \"Department\" of type VARCHAR with a maximum length of 50 characters to the existing \"Employees\" table."
   ]
  },
  {
   "cell_type": "markdown",
   "id": "8597568f-f1ab-4503-b62c-db1ead480317",
   "metadata": {},
   "source": [
    "4.TRUNCATE:\n",
    "The TRUNCATE statement is used to remove all data from a table while keeping its structure intact. Unlike the DROP statement, which deletes the entire table, TRUNCATE only removes the data. For example, to remove all records from the \"Employees\" table, you would use the following SQL statement:\n",
    "\n",
    "    TRUNCATE TABLE Employees;\n",
    "    \n",
    "This statement deletes all rows from the \"Employees\" table, but the table structure remains intact."
   ]
  },
  {
   "cell_type": "markdown",
   "id": "f20cdcf7-6ed1-4c50-b743-2797fd753c91",
   "metadata": {},
   "source": [
    "#### Q3. What is DML? Explain INSERT, UPDATE, and DELETE with an example."
   ]
  },
  {
   "cell_type": "markdown",
   "id": "af6bfd34-f0e5-44fd-b4ce-becbd8bc52f5",
   "metadata": {},
   "source": [
    "\n",
    "DML stands for Data Manipulation Language, which is a subset of SQL used to manipulate and retrieve data within a database. DML statements are used to insert, update, and delete data in database tables. Here's an explanation of commonly used DML statements and their purposes:"
   ]
  },
  {
   "cell_type": "markdown",
   "id": "89226f25-a13d-4444-b1fc-f121cf1a1191",
   "metadata": {},
   "source": [
    "1.INSERT:\n",
    "The INSERT statement is used to add new rows of data into a table. It allows you to specify the values for each column or insert data from another table. For example, to insert a new employee into the \"Employees\" table with specific values for the columns, you would use the following SQL statement:\n",
    "\n",
    "    INSERT INTO Employees (EmployeeID, Name, Salary)\n",
    "    VALUES (1, 'John Doe', 50000);\n",
    "This statement inserts a new row into the \"Employees\" table with an EmployeeID of 1, Name as 'John Doe', and Salary of 50000"
   ]
  },
  {
   "cell_type": "markdown",
   "id": "f3da3225-8d9e-42f4-b777-e2ca17136341",
   "metadata": {},
   "source": [
    "2.UPDATE:\n",
    "The UPDATE statement is used to modify existing data in a table. It allows you to update specific columns of one or more rows based on specified conditions. For example, to update the salary of an employee with EmployeeID 1 in the \"Employees\" table, you would use the following SQL statement:\n",
    "\n",
    "    UPDATE Employees\n",
    "    SET Salary = 55000\n",
    "    WHERE EmployeeID = 1;\n",
    "This statement updates the Salary column of the employee with EmployeeID 1 to 55000."
   ]
  },
  {
   "cell_type": "markdown",
   "id": "3d9e3277-5ce2-4a34-88d4-e51e95f0472e",
   "metadata": {},
   "source": [
    "3.DELETE:\n",
    "The DELETE statement is used to remove one or more rows from a table based on specified conditions. It allows you to selectively delete specific records or delete all records from a table. For example, to delete an employee with EmployeeID 1 from the \"Employees\" table, you would use the following SQL statement:\n",
    "\n",
    "    DELETE FROM Employees\n",
    "    WHERE EmployeeID = 1;\n",
    "This statement deletes the row(s) from the \"Employees\" table where the EmployeeID is 1."
   ]
  },
  {
   "cell_type": "markdown",
   "id": "8e5d0fc7-6681-4eb7-b948-975e422cc4eb",
   "metadata": {},
   "source": [
    "#### Q4. What is DQL? Explain SELECT with an example."
   ]
  },
  {
   "cell_type": "markdown",
   "id": "91d17eed-c874-49c7-89d6-426e156497aa",
   "metadata": {},
   "source": [
    "DQL stands for Data Query Language, which is a subset of SQL used to retrieve and query data from a database. The primary DQL statement is SELECT, which allows you to specify the columns, conditions, and sorting criteria to fetch data from one or more tables. Here's an explanation of the SELECT statement and an example:"
   ]
  },
  {
   "cell_type": "markdown",
   "id": "be3c50e8-1cbe-4a4b-9baa-948e18494233",
   "metadata": {},
   "source": [
    "SELECT:\n",
    "The SELECT statement is used to retrieve data from one or more tables in a database. It allows you to specify the columns to include in the result set, apply conditions to filter the data, and specify sorting order. The basic syntax of a SELECT statement is as follows:\n",
    "\n",
    "    SELECT column1, column2, ...\n",
    "    FROM table_name\n",
    "    WHERE condition\n",
    "    ORDER BY column1 ASC/DESC;"
   ]
  },
  {
   "cell_type": "markdown",
   "id": "63398548-fb57-4147-9bb9-de0a20d92e15",
   "metadata": {},
   "source": [
    "Example:\n",
    "Let's consider a table called \"Employees\" with columns such as EmployeeID, Name, Age, and Department. To retrieve the names of all employees in the Marketing department who are older than 30, sorted by their ages in descending order, the following SELECT statement can be used:\n",
    "\n",
    "    SELECT Name\n",
    "    FROM Employees\n",
    "    WHERE Department = 'Marketing' AND Age > 30\n",
    "    ORDER BY Age DESC;\n",
    "This statement retrieves the names of employees"
   ]
  },
  {
   "cell_type": "markdown",
   "id": "28be0adf-628d-4fac-a6f0-ee1a7fb9d71e",
   "metadata": {},
   "source": [
    "#### Q5. Explain Primary Key and Foreign Key."
   ]
  },
  {
   "cell_type": "markdown",
   "id": "6f692200-b950-45ca-9450-ce44c50cc8a3",
   "metadata": {},
   "source": [
    "Primary Key:\n",
    "\n",
    "A primary key is a column or a set of columns in a database table that uniquely identifies each row in the table. It serves as a unique identifier for the records in the table and ensures data integrity and consistency. Here are some key points about primary keys:\n",
    "\n",
    "Uniqueness: Each value in the primary key column(s) must be unique, meaning no two rows can have the same primary key value.\n",
    "\n",
    "Non-nullability: A primary key column cannot contain null values. Each row must have a valid value for the primary key.\n",
    "\n",
    "Indexed: The primary key is typically indexed, which allows for faster searching and retrieval of data.\n",
    "\n",
    "Constraints: Primary keys can be used as references (foreign keys) in other tables to establish relationships between tables."
   ]
  },
  {
   "cell_type": "markdown",
   "id": "b5a51cdb-b32a-427d-aedd-07e0a5f84ef1",
   "metadata": {},
   "source": [
    "Foreign Key:\n",
    "\n",
    "A foreign key is a column or a set of columns in a database table that refers to the primary key of another table. It establishes a relationship between two tables, known as a parent-child relationship. The foreign key in one table refers to the primary key in another table. Here are some key points about foreign keys:\n",
    "\n",
    "Relationship: The foreign key represents a relationship between two tables, where the referencing table (child table) includes a column that refers to the referenced table (parent table).\n",
    "\n",
    "Data Integrity: Foreign keys enforce referential integrity, meaning the values in the foreign key column(s) must exist in the referenced table's primary key column(s).\n",
    "\n",
    "Cascading Actions: Foreign keys can have cascading actions associated with them, such as ON DELETE and ON UPDATE. These actions define the behavior when a referenced row is deleted or updated. For example, CASCADE will automatically delete or update related rows in the child table."
   ]
  },
  {
   "cell_type": "markdown",
   "id": "d37970eb-7484-4771-8132-25b374ab5417",
   "metadata": {},
   "source": [
    "#### Q6. Write a python code to connect MySQL to python. Explain the cursor() and execute() method."
   ]
  },
  {
   "cell_type": "markdown",
   "id": "8500d0bd-1b91-4831-a34b-d1d6ee293682",
   "metadata": {},
   "source": [
    "import mysql.connector\n",
    "\n",
    "\n",
    "mydb = mysql.connector.connect(\n",
    "\n",
    "    host=\"localhost\",\n",
    "    user=\"your_username\",\n",
    "    password=\"your_password\",\n",
    "    database=\"your_database\"\n",
    ")\n",
    "\n",
    "cursor = mydb.cursor()\n",
    "\n",
    "cursor.execute(\"SELECT * FROM your_table\")\n",
    "result = cursor.fetchall()\n",
    "\n",
    "for row in result:\n",
    "    print(row)\n",
    "\n",
    "cursor.close()\n",
    "mydb.close()\n"
   ]
  },
  {
   "cell_type": "markdown",
   "id": "a23bed08-0ff8-42b1-ad94-1974e6c6ea67",
   "metadata": {},
   "source": [
    "The cursor() method creates a cursor object, which acts as a pointer to the result set of a query. It provides methods to execute SQL queries and retrieve the results.\n",
    "\n",
    "The execute() method of the cursor object is used to execute SQL queries. You pass the query as a parameter to this method. The method sends the query to the MySQL server for execution. It can handle various types of SQL statements like SELECT, INSERT, UPDATE, DELETE, etc. For SELECT statements, you typically follow execute() with methods like fetchall() or fetchone() to retrieve the results."
   ]
  },
  {
   "cell_type": "markdown",
   "id": "923759e5-200c-4a30-adc4-6ca2d140ab08",
   "metadata": {},
   "source": [
    "#### Q7. Give the order of execution of SQL clauses in an SQL query."
   ]
  },
  {
   "cell_type": "markdown",
   "id": "79429f04-1a16-4854-9794-bcced432bcac",
   "metadata": {},
   "source": [
    "The order of execution of SQL clauses in an SQL query generally follows the following sequence:\n",
    "\n",
    "    SELECT: The SELECT clause specifies the columns to retrieve from the table.\n",
    "    FROM: The FROM clause specifies the table or tables from which to retrieve the data.\n",
    "    JOIN: If multiple tables are involved, JOIN clauses are used to specify how the tables are related.\n",
    "    WHERE: The WHERE clause filters the rows based on specified conditions.\n",
    "    GROUP BY: The GROUP BY clause is used to group rows based on specific columns.\n",
    "    HAVING: The HAVING clause filters the grouped rows based on specified conditions.\n",
    "    ORDER BY: The ORDER BY clause sorts the result set based on specified columns.\n",
    "    LIMIT/OFFSET: The LIMIT and OFFSET clauses are used to restrict the number of rows returned or skip a certain number of rows."
   ]
  },
  {
   "cell_type": "code",
   "execution_count": null,
   "id": "c954377d-81a7-4df6-8197-a52d23e262b4",
   "metadata": {},
   "outputs": [],
   "source": []
  }
 ],
 "metadata": {
  "kernelspec": {
   "display_name": "Python 3 (ipykernel)",
   "language": "python",
   "name": "python3"
  },
  "language_info": {
   "codemirror_mode": {
    "name": "ipython",
    "version": 3
   },
   "file_extension": ".py",
   "mimetype": "text/x-python",
   "name": "python",
   "nbconvert_exporter": "python",
   "pygments_lexer": "ipython3",
   "version": "3.10.8"
  }
 },
 "nbformat": 4,
 "nbformat_minor": 5
}
