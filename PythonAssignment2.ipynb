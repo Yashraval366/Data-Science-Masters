{
 "cells": [
  {
   "cell_type": "markdown",
   "id": "8a740f9d-6824-4301-a335-3501e75cd2d2",
   "metadata": {
    "tags": []
   },
   "source": [
    "### 1. Write a program to accept percentage from the user and display the grade according to the following \n",
    "#### criteria:\n"
   ]
  },
  {
   "cell_type": "code",
   "execution_count": 119,
   "id": "f825667d-0dbc-40c8-a1c2-7c9adc457b5c",
   "metadata": {},
   "outputs": [
    {
     "name": "stdin",
     "output_type": "stream",
     "text": [
      "enter your marks :  99\n"
     ]
    },
    {
     "name": "stdout",
     "output_type": "stream",
     "text": [
      "your grade is A\n"
     ]
    },
    {
     "name": "stdin",
     "output_type": "stream",
     "text": [
      "enter your marks :  84\n"
     ]
    },
    {
     "name": "stdout",
     "output_type": "stream",
     "text": [
      "your grade is B\n"
     ]
    },
    {
     "name": "stdin",
     "output_type": "stream",
     "text": [
      "enter your marks :  65\n"
     ]
    },
    {
     "name": "stdout",
     "output_type": "stream",
     "text": [
      "your grade is C\n"
     ]
    },
    {
     "name": "stdin",
     "output_type": "stream",
     "text": [
      "enter your marks :  53\n"
     ]
    },
    {
     "name": "stdout",
     "output_type": "stream",
     "text": [
      "your grade is D\n"
     ]
    },
    {
     "name": "stdin",
     "output_type": "stream",
     "text": [
      "enter your marks :  105\n"
     ]
    },
    {
     "name": "stdout",
     "output_type": "stream",
     "text": [
      "invalid marks please try again\n"
     ]
    }
   ],
   "source": [
    "for i in range(0,5):\n",
    "    marks=int(input(\"enter your marks : \"))\n",
    "    if marks >=90 and marks <= 100:\n",
    "        print(\"your grade is A\")\n",
    "    elif marks>80 and marks <= 90:\n",
    "        print(\"your grade is B\")\n",
    "    elif marks>=60 and marks <= 80:\n",
    "        print(\"your grade is C\")\n",
    "    elif marks<= 60 and marks >=0:\n",
    "        print(\"your grade is D\")\n",
    "    else:\n",
    "        print(\"invalid marks please try again\")\n",
    "          "
   ]
  },
  {
   "cell_type": "markdown",
   "id": "e9531164-982a-45ca-bc01-7e94b0bedeb9",
   "metadata": {},
   "source": [
    "### 2. Write a program to accept the cost price of a bike and display the road tax to be paid according to the \n",
    "### following criteria:"
   ]
  },
  {
   "cell_type": "code",
   "execution_count": 25,
   "id": "22556913-eb9e-4c43-8381-7e7fb5b172a1",
   "metadata": {},
   "outputs": [
    {
     "name": "stdin",
     "output_type": "stream",
     "text": [
      "enter cost price of your bike :  40000\n"
     ]
    },
    {
     "name": "stdout",
     "output_type": "stream",
     "text": [
      "The road tax you have to pay is 2000\n"
     ]
    }
   ],
   "source": [
    "cost_price = int(input(\"enter cost price of your bike : \"))\n",
    "\n",
    "if cost_price > 100000:\n",
    "    print(\"The road tax you have to pay is {}\".format(int(cost_price * 15/100)))\n",
    "elif cost_price > 50000 and cost_price <= 100000:\n",
    "     print(\"The road tax you have to pay is {}\".format(int(cost_price * 10/100)))\n",
    "elif cost_price <= 50000:\n",
    "     print(\"The road tax you have to pay is {}\".format(int(cost_price * 5/100)))\n",
    "else:\n",
    "    print(\"please enter valid cost price of bike\")\n"
   ]
  },
  {
   "cell_type": "markdown",
   "id": "924b1d99-0cb3-438f-8c7d-2fbcfae13582",
   "metadata": {},
   "source": [
    "### 3. Accept any city from user and display monuments of that city. "
   ]
  },
  {
   "cell_type": "code",
   "execution_count": 1,
   "id": "ce39954d-bd2d-4ca8-af40-260a681aa94b",
   "metadata": {},
   "outputs": [
    {
     "name": "stdin",
     "output_type": "stream",
     "text": [
      "enter city name :  delhi\n"
     ]
    },
    {
     "name": "stdout",
     "output_type": "stream",
     "text": [
      "Red Fort\n"
     ]
    }
   ],
   "source": [
    "city_name = input(\"enter city name : \");\n",
    "if city_name == \"delhi\" or \"Delhi\" or \"DELHI\":\n",
    "    print(\"Red Fort\")\n",
    "elif city_name == \"agra\" or \"Agra\" or \"AGRA\":\n",
    "    print(\"Taj Mahal\")\n",
    "elif city_name == \"jaipur\" or \"Jaipur\" or \"JAIPUR\":\n",
    "    print(\"Jal Mahal\")\n",
    "else:\n",
    "    print(\"please enter another city name\")"
   ]
  },
  {
   "cell_type": "markdown",
   "id": "6635c161-7046-49f2-b0ec-d64a2295199a",
   "metadata": {},
   "source": [
    "### 4. Check how many  times a given number can be divided by 3 before it is less than or eqaul to 10."
   ]
  },
  {
   "cell_type": "code",
   "execution_count": 54,
   "id": "241bf9ab-79c9-4dfe-82a3-d3e961fbefd6",
   "metadata": {},
   "outputs": [
    {
     "name": "stdin",
     "output_type": "stream",
     "text": [
      "enter the number :  344\n"
     ]
    },
    {
     "name": "stdout",
     "output_type": "stream",
     "text": [
      "\n",
      "the given number can be divided by 3 is 4 times before its less than or equal to 10\n"
     ]
    }
   ],
   "source": [
    "num = int(input(\"enter the number : \"))\n",
    "count = 0\n",
    "while num > 10:\n",
    "    num=num/3\n",
    "    count += 1\n",
    "print(\"\\nthe given number can be divided by 3 is {} times before its less than or equal to 10\".format(count))\n"
   ]
  },
  {
   "cell_type": "markdown",
   "id": "d48fcc16-e6fd-473b-80a0-b3863810f763",
   "metadata": {
    "tags": []
   },
   "source": [
    "### 5. Why and When to Use while Loop in Python give a detailed description with example."
   ]
  },
  {
   "cell_type": "code",
   "execution_count": 1,
   "id": "372c7952-6702-420f-8f56-8641cf6994c7",
   "metadata": {
    "jp-MarkdownHeadingCollapsed": true,
    "tags": []
   },
   "outputs": [
    {
     "name": "stdin",
     "output_type": "stream",
     "text": [
      "Enter a word (or 'stop' to exit):  stop\n"
     ]
    },
    {
     "name": "stdout",
     "output_type": "stream",
     "text": [
      "Exiting the program...\n"
     ]
    }
   ],
   "source": [
    "# A while loop in Python is used to execute a block of code repeatedly as long as a given condition is true. The condition is checked before each iteration of the loop, and if the condition is false, the loop terminates and the program continues with the next statement after the loop.\n",
    "# The while loop is often used when you do not know beforehand the number of times you want to repeat the loop. For example, you may want to keep asking a user for input until they enter a valid value, or you may want to keep processing data from a file until you reach the end of the file.\n",
    "# Here's an example of using a while loop in Python:\n",
    "# A program to keep asking for user input until they enter 'stop'\n",
    "user_input = input(\"Enter a word (or 'stop' to exit): \")\n",
    "while user_input != 'stop':\n",
    "    print(\"You entered:\", user_input)\n",
    "    user_input = input(\"Enter a word (or 'stop' to exit): \")\n",
    "print(\"Exiting the program...\")\n"
   ]
  },
  {
   "cell_type": "markdown",
   "id": "43b39bc6-ff17-4293-a630-2deded2313c5",
   "metadata": {},
   "source": [
    "### 6. use nested while loop to print 3 differnt patterns"
   ]
  },
  {
   "cell_type": "code",
   "execution_count": 70,
   "id": "354ecae7-838e-494d-b62b-bdd7bd7cd265",
   "metadata": {},
   "outputs": [
    {
     "name": "stdout",
     "output_type": "stream",
     "text": [
      "*\n",
      "**\n",
      "***\n",
      "****\n",
      "*****\n",
      "******\n",
      "*******\n",
      "********\n"
     ]
    }
   ],
   "source": [
    "# 1.\n",
    "for i in range(0,8):\n",
    "    for j in range(0,i+1):\n",
    "        print(\"*\",end=\"\");\n",
    "    print(\"\\r\")"
   ]
  },
  {
   "cell_type": "code",
   "execution_count": 78,
   "id": "a4d410f9-d231-44a5-b16a-b255fd8e61fe",
   "metadata": {},
   "outputs": [
    {
     "name": "stdout",
     "output_type": "stream",
     "text": [
      "        *\n",
      "       **\n",
      "      ***\n",
      "     ****\n",
      "    *****\n",
      "   ******\n",
      "  *******\n",
      " ********\n"
     ]
    }
   ],
   "source": [
    "# 2.\n",
    "for i in range(0,n):\n",
    "    for j in range(8-i):\n",
    "        print(\" \",end=\"\")\n",
    "    for k in range(0,i+1):\n",
    "            print(\"*\",end=\"\");\n",
    "    print(\"\");"
   ]
  },
  {
   "cell_type": "code",
   "execution_count": 79,
   "id": "2fc7821d-5a04-4330-aec3-88f53ec8651e",
   "metadata": {},
   "outputs": [
    {
     "name": "stdout",
     "output_type": "stream",
     "text": [
      "         *\n",
      "        * *\n",
      "       * * *\n",
      "      * * * *\n",
      "     * * * * *\n",
      "    * * * * * *\n",
      "   * * * * * * *\n",
      "  * * * * * * * *\n"
     ]
    }
   ],
   "source": [
    "# 3.\n",
    "for i in range(0,n):\n",
    "    for j in range(8-i):\n",
    "        print(\" \",end=\"\");\n",
    "    for k in range(i+1):\n",
    "            print(\"\",\"*\",end=\"\");\n",
    "    print(\"\");"
   ]
  },
  {
   "cell_type": "markdown",
   "id": "f78f2861-b4e5-451c-b74b-084523a43159",
   "metadata": {},
   "source": [
    "### 7. Reverse a while loop to display numbers from 10 to 1. \n",
    "\n",
    "    "
   ]
  },
  {
   "cell_type": "code",
   "execution_count": 13,
   "id": "72cff898-090f-4b59-8699-304dcd83ba1f",
   "metadata": {},
   "outputs": [
    {
     "name": "stdout",
     "output_type": "stream",
     "text": [
      "10\n",
      "9\n",
      "8\n",
      "7\n",
      "6\n",
      "5\n",
      "4\n",
      "3\n",
      "2\n",
      "1\n"
     ]
    }
   ],
   "source": [
    "n=10\n",
    "while n >= 1:\n",
    "    print(n)\n",
    "    n=n-1\n",
    "    "
   ]
  }
 ],
 "metadata": {
  "kernelspec": {
   "display_name": "Python 3 (ipykernel)",
   "language": "python",
   "name": "python3"
  },
  "language_info": {
   "codemirror_mode": {
    "name": "ipython",
    "version": 3
   },
   "file_extension": ".py",
   "mimetype": "text/x-python",
   "name": "python",
   "nbconvert_exporter": "python",
   "pygments_lexer": "ipython3",
   "version": "3.10.8"
  }
 },
 "nbformat": 4,
 "nbformat_minor": 5
}
