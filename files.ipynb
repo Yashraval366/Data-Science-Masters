{
 "cells": [
  {
   "cell_type": "markdown",
   "id": "67697243-3d82-4269-96a4-df74b2a8cd75",
   "metadata": {},
   "source": [
    "#### Q1. Which function is used to open a file? What are the different modes of opening a file? Explain each mode of file opening."
   ]
  },
  {
   "cell_type": "markdown",
   "id": "62b820c7-6755-423d-853e-bd725db0d1cd",
   "metadata": {},
   "source": [
    "In Python, the open() function is used to open a file. It returns a file object, which can be used to read, write, and manipulate the file.\n",
    "\n",
    "There are several modes in which a file can be opened in Python:\n",
    "\n",
    "\"r\": This is the default mode. It opens a file for reading only. If the file does not exist, it raises a FileNotFoundError.\n",
    "\n",
    "\"w\": This mode opens a file for writing. If the file exists, it will be truncated to zero length. If it does not exist, a new file will be created.\n",
    "\n",
    "\"x\": This mode opens a file for exclusive creation. If the file already exists, the operation fails.\n",
    "\n",
    "\"a\": This mode opens a file for writing in append mode. The file pointer is at the end of the file, and if the file does not exist, it creates a new file.\n",
    "\n",
    "\"b\": This mode is used to open a file in binary mode.\n",
    "\n",
    "\"t\": This mode is used to open a file in text mode.\n",
    "\n",
    "\"+\": This mode is used to open a file for updating (reading and writing)."
   ]
  },
  {
   "cell_type": "markdown",
   "id": "07b32afb-8461-42ba-8b0f-fa73380f5221",
   "metadata": {},
   "source": [
    "#### Q2. Why close() function is used? Why is it important to close a file?"
   ]
  },
  {
   "cell_type": "markdown",
   "id": "8151a330-adbd-48f5-ae81-05a67be8df6d",
   "metadata": {},
   "source": [
    "The 'close()' function is used to close an opened file in Python. It is important to close a file after it has been opened and used to prevent data loss and memory leaks. When a file is opened, it consumes system resources, and if it is not closed properly, it may lead to system resource exhaustion.\n",
    "\n",
    "Closing a file ensures that any remaining data that has not been written to the file is written, and any resources used by the file are freed up. Additionally, when a file is closed, it allows other processes and applications to access it, and it makes the file available for deletion or modification.\n",
    "\n",
    "It is good programming practice to always close a file after it has been opened and used. In Python, files can be closed using the 'close()' method, or by using the 'with' statement, which automatically closes the file once the block of code inside it is executed."
   ]
  },
  {
   "cell_type": "markdown",
   "id": "11edbcd4-6d86-4e5a-84db-f48f9cfbb4e1",
   "metadata": {
    "tags": []
   },
   "source": [
    "#### Q3. Write a python program to create a text file. Write ‘I want to become a Data Scientist’ in that file. Then close the file. Open this file and read the content of the file."
   ]
  },
  {
   "cell_type": "code",
   "execution_count": 5,
   "id": "81b63cde-9198-468b-9b0b-fa254ad66833",
   "metadata": {},
   "outputs": [],
   "source": [
    "f = open(\"read_text.txt\", \"w\")"
   ]
  },
  {
   "cell_type": "code",
   "execution_count": 6,
   "id": "d24507c0-eadc-4b94-a4f7-73af6e237a2b",
   "metadata": {},
   "outputs": [
    {
     "data": {
      "text/plain": [
       "33"
      ]
     },
     "execution_count": 6,
     "metadata": {},
     "output_type": "execute_result"
    }
   ],
   "source": [
    "f.write(\"I want to become a Data Scientist\")"
   ]
  },
  {
   "cell_type": "code",
   "execution_count": 7,
   "id": "19c9824c-a473-4772-a043-08a3cdd9bfd8",
   "metadata": {},
   "outputs": [],
   "source": [
    "f.close()"
   ]
  },
  {
   "cell_type": "code",
   "execution_count": 8,
   "id": "5ed12714-8f66-4245-9b02-67ce6ae59e41",
   "metadata": {},
   "outputs": [],
   "source": [
    "f = open(\"read_text.txt\", \"r\")"
   ]
  },
  {
   "cell_type": "code",
   "execution_count": 9,
   "id": "a028c968-a587-4a1b-ac03-91fd154747c5",
   "metadata": {},
   "outputs": [
    {
     "data": {
      "text/plain": [
       "'I want to become a Data Scientist'"
      ]
     },
     "execution_count": 9,
     "metadata": {},
     "output_type": "execute_result"
    }
   ],
   "source": [
    "f.read()"
   ]
  },
  {
   "cell_type": "markdown",
   "id": "6851b716-d444-4f94-8025-97760dd28d64",
   "metadata": {},
   "source": [
    "#### Q4. Explain the following with python code: read(), readline() and readlines()."
   ]
  },
  {
   "cell_type": "code",
   "execution_count": 6,
   "id": "7841f654-3f0c-4b9d-82cc-156449c5ac4f",
   "metadata": {},
   "outputs": [
    {
     "name": "stdout",
     "output_type": "stream",
     "text": [
      "This is the first line\n",
      "This is the second line\n",
      "This is the third line\n",
      "\n"
     ]
    }
   ],
   "source": [
    "# read(): This method is used to read the entire contents of a file. It returns the contents of the file as a string.\n",
    "\n",
    "file = open(\"example1.txt\", \"r\")\n",
    "content = file.read()\n",
    "file.close()\n",
    "print(content)\n"
   ]
  },
  {
   "cell_type": "code",
   "execution_count": 9,
   "id": "fa3cd00b-3fed-4ceb-ae28-d452ba0bb81d",
   "metadata": {},
   "outputs": [
    {
     "name": "stdout",
     "output_type": "stream",
     "text": [
      "This is the first line\n",
      "\n",
      "This is the second line\n",
      "\n"
     ]
    }
   ],
   "source": [
    "# readline(): This method is used to read a single line from a file. It returns the line as a string.\n",
    "\n",
    "file = open(\"example1.txt\", \"r\")\n",
    "\n",
    "line1 = file.readline()\n",
    "line2 = file.readline()\n",
    "\n",
    "file.close()\n",
    "\n",
    "print(line1)\n",
    "print(line2)\n"
   ]
  },
  {
   "cell_type": "code",
   "execution_count": 10,
   "id": "0c4ad0a8-5818-44dd-b8dd-5f9cebbfd0da",
   "metadata": {},
   "outputs": [
    {
     "name": "stdout",
     "output_type": "stream",
     "text": [
      "This is the first line\n",
      "\n",
      "This is the second line\n",
      "\n",
      "This is the third line\n",
      "\n"
     ]
    }
   ],
   "source": [
    "# readlines(): This method is used to read all the lines from a file and returns them as a list of strings.\n",
    "\n",
    "file = open(\"example1.txt\", \"r\")\n",
    "\n",
    "lines = file.readlines()\n",
    "\n",
    "file.close()\n",
    "\n",
    "for i in lines:\n",
    "    print(i)\n"
   ]
  },
  {
   "cell_type": "markdown",
   "id": "4b2f1227-c1a2-4354-93be-a2025144cb89",
   "metadata": {},
   "source": [
    "#### Q5. Explain why with statement is used with open(). What is the advantage of using with statement and open() together?"
   ]
  },
  {
   "cell_type": "markdown",
   "id": "ab4f45e3-397a-442e-bd49-837297943ade",
   "metadata": {},
   "source": [
    "The with statement is used with open() function in Python to ensure that the file is properly closed after its use. It provides a convenient way to handle files and ensures that resources like file handles are cleaned up automatically when the block of code inside the with statement is exited, even if an exception occurs.\n",
    "\n",
    "The advantage of using the with statement with open() is that it takes care of closing the file handle automatically, thus avoiding the need for explicitly calling the close() method on the file handle. This is especially useful when dealing with large codebases where it can be easy to forget to close a file, leading to issues like resource leaks and file corruption. By using the with statement with open(), we can ensure that the file is properly closed after its use, even in the presence of exceptions."
   ]
  },
  {
   "cell_type": "markdown",
   "id": "5fefe8ad-7f04-4601-9f1c-90f17c601cbf",
   "metadata": {},
   "source": [
    "#### Q6. Explain the write() and writelines() functions. Give a suitable example."
   ]
  },
  {
   "cell_type": "code",
   "execution_count": 11,
   "id": "8257c427-06c0-4c6b-8dd7-e83163c1f22e",
   "metadata": {},
   "outputs": [],
   "source": [
    "# The write() function is used to write a string to a file. It returns the number of characters written to the file.\n",
    "# The syntax is as follows:\n",
    "# file.write(string)"
   ]
  },
  {
   "cell_type": "code",
   "execution_count": 12,
   "id": "b5f46331-a11b-40f8-8621-7ce74bcf1c19",
   "metadata": {},
   "outputs": [],
   "source": [
    "# The writelines() function is used to write a list of strings to a file. Each string in the list is written to a separate line in the file. \n",
    "# The syntax is as follows:\n",
    "# file.writelines(list_of_strings)"
   ]
  },
  {
   "cell_type": "code",
   "execution_count": 12,
   "id": "26341824-b072-4021-bde3-fd8ebfaa0186",
   "metadata": {},
   "outputs": [],
   "source": [
    "# opening a file in write mode\n",
    "with open(\"example2.txt\", \"w\") as f:\n",
    "    # using write() to write a string to the file\n",
    "    f.write(\"Hello, world\\n\")\n",
    "    \n",
    "    # using writelines() to write a list of strings to the file\n",
    "    lines = [\"This is line 1\\n\", \"This is line 2\\n\", \"This is line 3\\n\"]\n",
    "    f.writelines(lines)\n"
   ]
  },
  {
   "cell_type": "code",
   "execution_count": null,
   "id": "974b52f1-30c4-4129-9341-dc8113eabe4d",
   "metadata": {},
   "outputs": [],
   "source": []
  }
 ],
 "metadata": {
  "kernelspec": {
   "display_name": "Python 3 (ipykernel)",
   "language": "python",
   "name": "python3"
  },
  "language_info": {
   "codemirror_mode": {
    "name": "ipython",
    "version": 3
   },
   "file_extension": ".py",
   "mimetype": "text/x-python",
   "name": "python",
   "nbconvert_exporter": "python",
   "pygments_lexer": "ipython3",
   "version": "3.10.8"
  }
 },
 "nbformat": 4,
 "nbformat_minor": 5
}
