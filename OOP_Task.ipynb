{
 "cells": [
  {
   "cell_type": "markdown",
   "id": "b0033659-2f17-46ea-a1dc-9e471dedbcd5",
   "metadata": {
    "tags": []
   },
   "source": [
    "#### Q1, Create a vehicle class with an init method having instance variables as name_of_vehicle, max_speed and average_of_vehicle."
   ]
  },
  {
   "cell_type": "code",
   "execution_count": 42,
   "id": "d9e649b7-0b27-4387-b188-e4f16bf9b874",
   "metadata": {},
   "outputs": [
    {
     "name": "stdout",
     "output_type": "stream",
     "text": [
      "Ford Mustang\n",
      "250\n",
      "20\n"
     ]
    }
   ],
   "source": [
    "class Vehicle:\n",
    "    def __init__(self, name, max_speed, average):\n",
    "        self.name_of_vehicle = name\n",
    "        self.max_speed = max_speed\n",
    "        self.average_of_vehicle = average\n",
    "        \n",
    "        \n",
    "car1 = Vehicle(\"Ford Mustang\", 250, 20)\n",
    "car2 = Vehicle(\"Tesla Model S\", 200, 25)\n",
    "bike1 = Vehicle(\"Harley Davidson\", 180, 15)\n",
    "\n",
    "\n",
    "print(car1.name_of_vehicle) \n",
    "print(car1.max_speed) \n",
    "print(car1.average_of_vehicle)\n",
    "\n"
   ]
  },
  {
   "cell_type": "markdown",
   "id": "654eba46-8e1b-4ee8-a87b-82fad40d7544",
   "metadata": {},
   "source": [
    "#### Q2. Create a child class car from the vehicle class created in Que 1, which will inherit the vehicle class. Create a method named seating_capacity which takes capacity as an argument and returns the name of the vehicle and its seating capacity."
   ]
  },
  {
   "cell_type": "code",
   "execution_count": 47,
   "id": "7361d336-45d9-4abc-9cdb-9c5cf61a62b7",
   "metadata": {},
   "outputs": [
    {
     "name": "stdout",
     "output_type": "stream",
     "text": [
      "Ford Mustang has a seating capacity of 4 persons.\n"
     ]
    }
   ],
   "source": [
    "class Car(Vehicle):\n",
    "    def seating_capacity(self, capacity):\n",
    "        return f\"{self.name_of_vehicle} has a seating capacity of {capacity} persons.\"\n",
    "\n",
    "    \n",
    "car1 = Car(\"Ford Mustang\", 250, 20)\n",
    "\n",
    "seating_capacity = car1.seating_capacity(4)\n",
    "\n",
    "print(seating_capacity)"
   ]
  },
  {
   "cell_type": "markdown",
   "id": "45640250-2532-444e-8b6d-2313d70f2b2b",
   "metadata": {
    "tags": []
   },
   "source": [
    "#### Q3. What is multiple inheritance? Write a python code to demonstrate multiple inheritance."
   ]
  },
  {
   "cell_type": "markdown",
   "id": "065f94b7-33c7-4cbe-ab18-10c416a8e483",
   "metadata": {},
   "source": [
    "Multiple inheritance is a feature of object-oriented programming in which a class can inherit properties and methods from multiple parent classes."
   ]
  },
  {
   "cell_type": "code",
   "execution_count": 48,
   "id": "f31d7013-2e07-4903-bfff-19d0a851fb87",
   "metadata": {},
   "outputs": [
    {
     "name": "stdout",
     "output_type": "stream",
     "text": [
      "This is method 1 from Parent1\n",
      "This is method 2 from Parent2\n",
      "This is method 3 from Child\n"
     ]
    }
   ],
   "source": [
    "class Parent1:\n",
    "    def method1(self):\n",
    "        print(\"This is method 1 from Parent1\")\n",
    "\n",
    "class Parent2:\n",
    "    def method2(self):\n",
    "        print(\"This is method 2 from Parent2\")\n",
    "\n",
    "class Child(Parent1, Parent2):\n",
    "    def method3(self):\n",
    "        print(\"This is method 3 from Child\")\n",
    "\n",
    "# Create an object of Child class\n",
    "obj = Child()\n",
    "\n",
    "# Call methods from Parent1 class\n",
    "obj.method1()\n",
    "\n",
    "# Call methods from Parent2 class\n",
    "obj.method2()\n",
    "\n",
    "# Call method from Child class\n",
    "obj.method3()\n"
   ]
  },
  {
   "cell_type": "markdown",
   "id": "071e5dc9-4c49-459c-a78c-9a96e5034422",
   "metadata": {},
   "source": [
    "#### Q4. What are getter and setter in python? Create a class and create a getter and a setter method in this class."
   ]
  },
  {
   "cell_type": "code",
   "execution_count": 55,
   "id": "322a9cac-5cfe-4c6a-a605-92fa7f938282",
   "metadata": {},
   "outputs": [
    {
     "name": "stdout",
     "output_type": "stream",
     "text": [
      "harsh\n",
      "19\n",
      "shaharsh\n",
      "20\n"
     ]
    }
   ],
   "source": [
    "class Student:\n",
    "    def __init__(self, name, age):\n",
    "        self.name = name\n",
    "        self.age = age\n",
    "        \n",
    "    def get_name(self):\n",
    "        return self.name\n",
    "    \n",
    "    def set_name(self, name):\n",
    "        self.name = name\n",
    "        \n",
    "    def get_age(self):\n",
    "        return self.age\n",
    "    \n",
    "    def set_age(self, age):\n",
    "        self.age = age\n",
    "        \n",
    "# to get the name and age of a student object, we can use the get_name() and get_age() methods, respectively:\n",
    "student = Student(\"harsh\", 19)\n",
    "print(student.get_name())\n",
    "print(student.get_age())\n",
    "\n",
    "# To set the name and age of a student object, we can use the set_name() and set_age() methods, respectively:\n",
    "student.set_name(\"shaharsh\")\n",
    "student.set_age(20)\n",
    "print(student.get_name())\n",
    "print(student.get_age())\n",
    "\n"
   ]
  },
  {
   "cell_type": "markdown",
   "id": "bf96cd49-01cb-49a4-af58-a93b48986c54",
   "metadata": {},
   "source": [
    "#### Q5.What is method overriding in python? Write a python code to demonstrate method overriding. "
   ]
  },
  {
   "cell_type": "markdown",
   "id": "a473117f-ea96-4b65-a85c-e8348c10ccd3",
   "metadata": {},
   "source": [
    "Method overriding is a feature of object-oriented programming in which a subclass provides a different implementation of a method that is already defined by its parent class. The method in the parent class is overridden in the child class with a new implementation."
   ]
  },
  {
   "cell_type": "code",
   "execution_count": 59,
   "id": "f8ac13cd-f866-41c3-8f8e-18f188c8602c",
   "metadata": {},
   "outputs": [
    {
     "name": "stdout",
     "output_type": "stream",
     "text": [
      "pw courses\n",
      "this is web_dev course by pw\n",
      "this is data scinece course by pw\n"
     ]
    }
   ],
   "source": [
    "class student:\n",
    "    def course(self):\n",
    "         print(\"pw courses\")\n",
    "\n",
    "class web_dev(student):\n",
    "    def course(self):\n",
    "        print(\"this is web_dev course by pw\")\n",
    "\n",
    "class data_science(student):\n",
    "    def course(self):\n",
    "         print(\"this is data scinece course by pw\")\n",
    "\n",
    "student = student()\n",
    "web_dev = web_dev()\n",
    "data_science = data_science()\n",
    "\n",
    "student.course()\n",
    "web_dev.course()\n",
    "data_science.course()"
   ]
  },
  {
   "cell_type": "markdown",
   "id": "6c90ff50-1512-441e-b8fd-3efb1645461e",
   "metadata": {},
   "source": [
    "In the above code, we have a class student and two child classes web_dev and data science which inherit from the parent class. Each of the child classes has its own implementation of the course method which overrides the implementation of the same method in the parent class. When we call the course method on an instance of each class, it executes the overridden implementation in the child class."
   ]
  }
 ],
 "metadata": {
  "kernelspec": {
   "display_name": "Python 3 (ipykernel)",
   "language": "python",
   "name": "python3"
  },
  "language_info": {
   "codemirror_mode": {
    "name": "ipython",
    "version": 3
   },
   "file_extension": ".py",
   "mimetype": "text/x-python",
   "name": "python",
   "nbconvert_exporter": "python",
   "pygments_lexer": "ipython3",
   "version": "3.10.8"
  }
 },
 "nbformat": 4,
 "nbformat_minor": 5
}
