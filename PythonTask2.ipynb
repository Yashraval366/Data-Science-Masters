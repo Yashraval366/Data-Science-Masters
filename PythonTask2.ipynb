{
 "cells": [
  {
   "cell_type": "markdown",
   "id": "efa1423f-7e3b-45fa-977b-0e3403af713a",
   "metadata": {},
   "source": [
    "Q1. You are writing code for a company. The requirement of the company is that you create a python\n",
    "function that will check whether the password entered by the user is correct or not. The function should\n",
    "take the password as input and return the string “Valid Password” if the entered password follows the\n",
    "below-given password guidelines else it should return “Invalid Password”.\n",
    "\n",
    "Note: \n",
    "1. The Password should contain at least two uppercase letters and at least two lowercase letters.\n",
    "2. The Password should contain at least a number and three special characters.\n",
    "3. The length of the password should be 10 characters long."
   ]
  },
  {
   "cell_type": "code",
   "execution_count": 5,
   "id": "ec954d9b-23ef-4b35-984c-483db1ca8e6c",
   "metadata": {},
   "outputs": [
    {
     "name": "stdin",
     "output_type": "stream",
     "text": [
      "enter the password :  1223489347\n"
     ]
    },
    {
     "data": {
      "text/plain": [
       "'Invalid Password'"
      ]
     },
     "execution_count": 5,
     "metadata": {},
     "output_type": "execute_result"
    }
   ],
   "source": [
    "import re\n",
    "\n",
    "def check_password(password):\n",
    "    if len(password) != 10:\n",
    "        return \"Invalid Password\"\n",
    "    \n",
    "    upper_count = len(re.findall(r'[A-Z]', password))\n",
    "    lower_count = len(re.findall(r'[a-z]', password))\n",
    "    if upper_count > 2 or lower_count < 2:\n",
    "        return \"Invalid Password\"\n",
    "    \n",
    "    digit_count = len(re.findall(r'\\d', password))\n",
    "    special_count = len(re.findall(r'[^\\w\\s]', password))\n",
    "    if digit_count < 1 or special_count < 3:\n",
    "        return \"Invalid Password\"\n",
    "    \n",
    "password = input(\"enter the password : \")\n",
    "check_password(password)"
   ]
  },
  {
   "cell_type": "markdown",
   "id": "5f710386-1661-492e-8a50-886e8f189245",
   "metadata": {},
   "source": [
    "Q2. Solve the below-given questions using at least one of the following:\n",
    "1. Lambda function\n",
    "2. Filter function\n",
    "3. Map function\n",
    "4. List Comprehension\n",
    "\n",
    " Check if the string starts with a particular letter \n",
    " \n",
    " Check if the string is numeric\n",
    " \n",
    " Sort a list of tuples having fruit names and their quantity. \n",
    " [(\"mango\",99),(\"orange\",80), (\"grapes\", 1000)]\n",
    " \n",
    " Find the squares of numbers from 1 to 10\n",
    " \n",
    " Find the cube root of numbers from 1 to 10\n",
    " \n",
    " Check if a given number is even\n",
    " \n",
    " Filter odd numbers from the given list.\n",
    " [1,2,3,4,5,6,7,8,9,10]\n",
    " \n",
    " Sort a list of integers into positive and negative integers lists.\n",
    " [1,2,3,4,5,6,-1,-2,-3,-4,-5,0]"
   ]
  },
  {
   "cell_type": "code",
   "execution_count": 6,
   "id": "59b98de7-adfa-4a76-9dac-ce87acd69921",
   "metadata": {},
   "outputs": [
    {
     "name": "stdout",
     "output_type": "stream",
     "text": [
      "['hsfffwq']\n"
     ]
    }
   ],
   "source": [
    "# Check if the string starts with a particular letter\n",
    "\n",
    "strings = ['ydfffw', 'hsfffwq', 'dshgfgyw', 'fsdadwa', 'esffwa']\n",
    "letter = 'h'\n",
    "\n",
    "result = filter(lambda x: x.startswith(letter), strings)\n",
    "\n",
    "print(list(result))\n"
   ]
  },
  {
   "cell_type": "code",
   "execution_count": 7,
   "id": "21743462-a49b-4379-be09-f587fbbe9722",
   "metadata": {},
   "outputs": [
    {
     "name": "stdout",
     "output_type": "stream",
     "text": [
      "['123']\n"
     ]
    }
   ],
   "source": [
    "# Check if the string is numeric\n",
    "\n",
    "strings = ['123', '1.23', 'one', '1two3', '-456']\n",
    "result = [x for x in strings if x.isnumeric()]\n",
    "\n",
    "print(result)  \n"
   ]
  },
  {
   "cell_type": "code",
   "execution_count": 8,
   "id": "53b29348-260d-4ae4-8108-14120dd4db60",
   "metadata": {},
   "outputs": [
    {
     "name": "stdout",
     "output_type": "stream",
     "text": [
      "[('orange', 80), ('mango', 99), ('grapes', 1000)]\n"
     ]
    }
   ],
   "source": [
    "# Sort a list of tuples having fruit names and their quantity. \n",
    "#[(\"mango\",99),(\"orange\",80), (\"grapes\", 1000)]\n",
    "\n",
    "fruits = [(\"mango\", 99), (\"orange\", 80), (\"grapes\", 1000)]\n",
    "sorted_fruits = sorted(fruits, key=lambda x: x[1])\n",
    "print(sorted_fruits)\n"
   ]
  },
  {
   "cell_type": "code",
   "execution_count": 9,
   "id": "ce0ee45f-ad27-403d-9ba9-825511ebd639",
   "metadata": {},
   "outputs": [
    {
     "name": "stdout",
     "output_type": "stream",
     "text": [
      "[1, 4, 9, 16, 25, 36, 49, 64, 81, 100]\n"
     ]
    }
   ],
   "source": [
    "# Find the squares of numbers from 1 to 10\n",
    "\n",
    "numbers = [1, 2, 3, 4, 5, 6, 7, 8, 9, 10]\n",
    "squares = list(map(lambda x: x**2, numbers))\n",
    "print(squares)\n"
   ]
  },
  {
   "cell_type": "code",
   "execution_count": 12,
   "id": "76aab4c5-9a90-41b1-aaad-1a35f1697b5d",
   "metadata": {},
   "outputs": [
    {
     "name": "stdout",
     "output_type": "stream",
     "text": [
      "[1.0, 1.26, 1.44, 1.59, 1.71, 1.82, 1.91, 2.0, 2.08, 2.15]\n"
     ]
    }
   ],
   "source": [
    "# Find the cube root of numbers from 1 to 10\n",
    "\n",
    "import math\n",
    "cube_roots = list(map(lambda x: round(pow(x, 1/3),2), range(1,11)))\n",
    "print(cube_roots)\n"
   ]
  },
  {
   "cell_type": "code",
   "execution_count": 18,
   "id": "f6bdbb66-3851-4e36-8713-2fcee18cd946",
   "metadata": {},
   "outputs": [
    {
     "name": "stdin",
     "output_type": "stream",
     "text": [
      "enter the number :  2\n"
     ]
    },
    {
     "name": "stdout",
     "output_type": "stream",
     "text": [
      "even\n"
     ]
    }
   ],
   "source": [
    "# Check if a given number is even\n",
    "num = int(input(\"enter the number : \"))\n",
    "result = \"even\" if num %2==0 else \"odd\"\n",
    "print(result)"
   ]
  },
  {
   "cell_type": "code",
   "execution_count": 19,
   "id": "c4b8daf7-5eff-41b9-ac17-fa293fa07ddc",
   "metadata": {},
   "outputs": [
    {
     "name": "stdout",
     "output_type": "stream",
     "text": [
      "[1, 3, 5, 7, 9]\n"
     ]
    }
   ],
   "source": [
    "# Filter odd numbers from the given list.\n",
    "numbers = [1, 2, 3, 4, 5, 6, 7, 8, 9, 10]\n",
    "odd_numbers = list(filter(lambda x: x % 2 != 0, numbers))\n",
    "print(odd_numbers)\n"
   ]
  },
  {
   "cell_type": "code",
   "execution_count": 26,
   "id": "fbb39e59-0866-405f-a33a-127f064b7248",
   "metadata": {},
   "outputs": [
    {
     "name": "stdout",
     "output_type": "stream",
     "text": [
      "[1, 2, 3, 4, 5, 6] [-1, -2, -3, -4, -5]\n"
     ]
    }
   ],
   "source": [
    "# Sort a list of integers into positive and negative integers lists.\n",
    " \n",
    "l = [1,2,3,4,5,6,-1,-2,-3,-4,-5,0]\n",
    "\n",
    "positive_list = [num for num in l if num > 0]\n",
    "negative_list = [num for num in l if num < 0]\n",
    "\n",
    "print(positive_list, negative_list)"
   ]
  },
  {
   "cell_type": "code",
   "execution_count": null,
   "id": "d78c2206-4678-4a18-8c80-bd08b1c9faa6",
   "metadata": {},
   "outputs": [],
   "source": []
  }
 ],
 "metadata": {
  "kernelspec": {
   "display_name": "Python 3 (ipykernel)",
   "language": "python",
   "name": "python3"
  },
  "language_info": {
   "codemirror_mode": {
    "name": "ipython",
    "version": 3
   },
   "file_extension": ".py",
   "mimetype": "text/x-python",
   "name": "python",
   "nbconvert_exporter": "python",
   "pygments_lexer": "ipython3",
   "version": "3.10.8"
  }
 },
 "nbformat": 4,
 "nbformat_minor": 5
}
