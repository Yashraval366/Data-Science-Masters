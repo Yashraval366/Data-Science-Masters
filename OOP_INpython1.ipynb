{
 "cells": [
  {
   "cell_type": "markdown",
   "id": "7db26420-9ad5-42a1-bbeb-b2f8d926c781",
   "metadata": {},
   "source": [
    "### Q1. Explain Class and Object with respect to Object-Oriented Programming. Give a suitable example."
   ]
  },
  {
   "cell_type": "markdown",
   "id": "1673dcf1-4fb4-4ca2-9b07-b417ce5ba610",
   "metadata": {},
   "source": [
    "In Object-Oriented Programming (OOP), a class is a blueprint or a template for creating objects, while an object is an instance of a class that contains its own state and behavior.\n",
    "\n",
    "A class defines a set of attributes and methods that describe the state and behavior of objects that will be created from it. It provides a specification or a plan for creating objects with specific properties and behaviors.\n",
    "\n",
    "On the other hand, an object is a specific instance of a class, created from the class blueprint, that has its own unique state and behavior. The state of an object refers to the values of its attributes or properties, while the behavior of an object refers to the actions it can perform through its methods."
   ]
  },
  {
   "cell_type": "code",
   "execution_count": 35,
   "id": "9b143b37-558e-4584-a29c-7f38d47ee636",
   "metadata": {},
   "outputs": [
    {
     "name": "stdout",
     "output_type": "stream",
     "text": [
      "student_id : 112  student_number : 9834537634  student_age : 20\n",
      "None\n"
     ]
    }
   ],
   "source": [
    "class student:\n",
    "    def __init__(self, student_id, student_number, student_age):\n",
    "        \n",
    "        self.student_id = student_id\n",
    "        self.student_number = student_number\n",
    "        self.student_age = student_age\n",
    "        \n",
    "    def student_details(self):\n",
    "        print(\"student_id :\", self.student_id,\" student_number :\", self.student_number, \" student_age :\", self.student_age)\n",
    "    \n",
    "harish = student(112, 9834537634, 20)\n",
    "\n",
    "print(harish.student_details())"
   ]
  },
  {
   "cell_type": "markdown",
   "id": "443b4f5a-3dbe-497d-a7c6-eda815e00a59",
   "metadata": {},
   "source": [
    "### Q2. Name the four pillars of OOPs."
   ]
  },
  {
   "cell_type": "markdown",
   "id": "a327721b-ee91-49f2-a581-cedffcd6dea7",
   "metadata": {},
   "source": [
    "The four pillars of Object-Oriented Programming (OOP) are:\n",
    "\n",
    "1.Encapsulation: Encapsulation is the principle of hiding the internal details and implementation of an object from the outside world, and instead providing a public interface through which other objects can interact with it. This helps to protect the object's state and behavior from unauthorized access or modification.\n",
    "\n",
    "2.Abstraction: Abstraction is the process of identifying the essential features or properties of an object, while ignoring the non-essential details. This helps to simplify complex systems by focusing on the most important aspects and hiding unnecessary complexity.\n",
    "\n",
    "3.Inheritance: Inheritance is the ability of a subclass to inherit the properties and methods of its parent class. This allows for code reuse and the creation of hierarchies of related classes, and enables objects to be organized into more general and specific categories.\n",
    "\n",
    "4.Polymorphism: Polymorphism is the ability of objects of different classes to respond to the same message or method call in different ways. This allows for more flexible and extensible code, and enables objects to be used interchangeably in different contexts.\n"
   ]
  },
  {
   "cell_type": "markdown",
   "id": "3706eee4-582c-40cb-966a-1d1610a21955",
   "metadata": {},
   "source": [
    "### Q3. Explain why the __init__() function is used. Give a suitable example."
   ]
  },
  {
   "cell_type": "markdown",
   "id": "2ae6350c-072d-4075-828a-e77cce22f9b3",
   "metadata": {},
   "source": [
    "The __init__() function is a special method in Python that is used to initialize an object's attributes when it is created. It is called automatically when an object is instantiated from a class, and is used to set the initial values of the object's attributes.\n",
    "\n",
    "The __init__() method takes at least one argument: self, which refers to the object that is being created. Additional arguments can be passed to the method to set the initial values of the object's attributes."
   ]
  },
  {
   "cell_type": "code",
   "execution_count": 36,
   "id": "ddbefa27-3bb6-4563-99d4-815567d59039",
   "metadata": {},
   "outputs": [
    {
     "name": "stdout",
     "output_type": "stream",
     "text": [
      "Hello, my name is harish and I am 20 years old.\n",
      "Hello, my name is ayush and I am 22 years old.\n"
     ]
    }
   ],
   "source": [
    "class Person:\n",
    "    def __init__(self, name, age):\n",
    "        self.name = name\n",
    "        self.age = age\n",
    "        \n",
    "    def say_hello(self):\n",
    "        print(\"Hello, my name is\", self.name, \"and I am\", self.age, \"years old.\")\n",
    "\n",
    "person1 = Person(\"harish\", 20)\n",
    "person2 = Person(\"ayush\", 22)\n",
    "\n",
    "person1.say_hello()    \n",
    "person2.say_hello()    \n"
   ]
  },
  {
   "cell_type": "markdown",
   "id": "f8eb3ffb-ac14-49d9-be49-6dda92ac3b9f",
   "metadata": {},
   "source": [
    "### Q4. Why self is used in OOPs?"
   ]
  },
  {
   "cell_type": "markdown",
   "id": "fcf4bc8d-5e1c-46d6-aa11-886afaedcf88",
   "metadata": {},
   "source": [
    "In Object-Oriented Programming (OOP), \"self\" is a reference to the current instance of a class. It is used to access the attributes and methods of the current object, and to pass the object as a parameter to its own methods.\n",
    "\n",
    "The \"self\" parameter is typically the first parameter of instance methods in Python classes. When a method is called on an object, the object itself is passed as the \"self\" parameter to the method. This allows the method to access and modify the object's attributes, and to perform actions that are specific to that particular object"
   ]
  },
  {
   "cell_type": "markdown",
   "id": "b97d8b95-2dfa-483d-bd1b-b4afd4208024",
   "metadata": {},
   "source": [
    "### Q5. What is inheritance? Give an example for each type of inheritance."
   ]
  },
  {
   "cell_type": "markdown",
   "id": "f908aab0-e1ea-42a0-ba68-52782d03bb9d",
   "metadata": {},
   "source": [
    "Inheritance is a fundamental concept in object-oriented programming (OOP) that allows a new class to be based on an existing class. Inheritance enables a new class, called the derived class or subclass, to inherit attributes and methods from an existing class, called the base class or superclass. The derived class can then add its own attributes and methods, or modify the ones it inherited, to create a more specialized or customized class."
   ]
  },
  {
   "cell_type": "code",
   "execution_count": 2,
   "id": "39104e03-afa1-4966-9576-706ef73e6aab",
   "metadata": {},
   "outputs": [
    {
     "name": "stdout",
     "output_type": "stream",
     "text": [
      "tom\n",
      "Woof\n"
     ]
    }
   ],
   "source": [
    "# 1. Single inheritance: A child class inherits from a single parent class.\n",
    "# example :\n",
    "class Animal:\n",
    "    def __init__(self, name):\n",
    "        self.name = name\n",
    "\n",
    "    def speak(self):\n",
    "        raise NotImplementedError(\"Subclass must implement abstract method\")\n",
    "\n",
    "class Dog(Animal):\n",
    "    def speak(self):\n",
    "        return \"Woof\"\n",
    "\n",
    "dog = Dog(\"tom\")\n",
    "print(dog.name)       \n",
    "print(dog.speak())     \n"
   ]
  },
  {
   "cell_type": "code",
   "execution_count": 3,
   "id": "d294b434-688d-43f3-a959-d89a488edbe1",
   "metadata": {},
   "outputs": [
    {
     "name": "stdout",
     "output_type": "stream",
     "text": [
      "This is method A\n",
      "This is method B\n",
      "This is method C\n"
     ]
    }
   ],
   "source": [
    "# 2. Multiple inheritance: A child class inherits from multiple parent classes.\n",
    "# example :\n",
    "class A:\n",
    "    def method_a(self):\n",
    "        print(\"This is method A\")\n",
    "\n",
    "class B:\n",
    "    def method_b(self):\n",
    "        print(\"This is method B\")\n",
    "\n",
    "class C(A, B):\n",
    "    def method_c(self):\n",
    "        print(\"This is method C\")\n",
    "\n",
    "c = C()\n",
    "c.method_a()  \n",
    "c.method_b()  \n",
    "c.method_c()\n"
   ]
  },
  {
   "cell_type": "code",
   "execution_count": 4,
   "id": "cc9557a1-ef5f-415d-a495-994687571d51",
   "metadata": {},
   "outputs": [
    {
     "name": "stdout",
     "output_type": "stream",
     "text": [
      "Animal speaks\n",
      "Dog barks\n",
      "Animal speaks\n",
      "Cat meows\n"
     ]
    }
   ],
   "source": [
    "# 3. Hierarchical inheritance: Multiple child classes inherit from a single parent class.\n",
    "# example : \n",
    "class Animal:\n",
    "    def speak(self):\n",
    "        print(\"Animal speaks\")\n",
    "\n",
    "class Dog(Animal):\n",
    "    def bark(self):\n",
    "        print(\"Dog barks\")\n",
    "\n",
    "class Cat(Animal):\n",
    "    def meow(self):\n",
    "        print(\"Cat meows\")\n",
    "\n",
    "d = Dog()\n",
    "d.speak()  \n",
    "d.bark()   \n",
    "\n",
    "c = Cat()\n",
    "c.speak()  \n",
    "c.meow()  \n"
   ]
  },
  {
   "cell_type": "code",
   "execution_count": 5,
   "id": "662655f1-6449-42db-9d4f-79e39a21765b",
   "metadata": {},
   "outputs": [
    {
     "name": "stdout",
     "output_type": "stream",
     "text": [
      "Animal speaks\n",
      "Mammal feeds milk\n",
      "Dog barks\n"
     ]
    }
   ],
   "source": [
    "# 4. Multi-level inheritance: A child class inherits from a parent class, which in turn inherits from another parent class.\n",
    "# for example :\n",
    "class Animal:\n",
    "    def speak(self):\n",
    "        print(\"Animal speaks\")\n",
    "\n",
    "class Mammal(Animal):\n",
    "    def feed_milk(self):\n",
    "        print(\"Mammal feeds milk\")\n",
    "\n",
    "class Dog(Mammal):\n",
    "    def bark(self):\n",
    "        print(\"Dog barks\")\n",
    "\n",
    "d = Dog()\n",
    "d.speak()      # Output: Animal speaks\n",
    "d.feed_milk()  # Output: Mammal feeds milk\n",
    "d.bark()       # Output: Dog barks\n"
   ]
  },
  {
   "cell_type": "code",
   "execution_count": null,
   "id": "7b9595be-b327-4a10-9188-303b8f8966e0",
   "metadata": {},
   "outputs": [],
   "source": []
  }
 ],
 "metadata": {
  "kernelspec": {
   "display_name": "Python 3 (ipykernel)",
   "language": "python",
   "name": "python3"
  },
  "language_info": {
   "codemirror_mode": {
    "name": "ipython",
    "version": 3
   },
   "file_extension": ".py",
   "mimetype": "text/x-python",
   "name": "python",
   "nbconvert_exporter": "python",
   "pygments_lexer": "ipython3",
   "version": "3.10.8"
  }
 },
 "nbformat": 4,
 "nbformat_minor": 5
}
