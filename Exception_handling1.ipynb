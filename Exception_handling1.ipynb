{
 "cells": [
  {
   "cell_type": "markdown",
   "id": "431b95f3-088e-455e-a359-e3ddffab8cb0",
   "metadata": {},
   "source": [
    "#### Q1. what is an exception in python? write the difference between exception and syntax error"
   ]
  },
  {
   "cell_type": "markdown",
   "id": "f62bb021-f35b-4c02-8913-064e21efc14d",
   "metadata": {},
   "source": [
    "In Python, an exception is an event that occurs during the execution of a program that disrupts the normal flow of the program's instructions. When an exception occurs, Python raises an exception object which contains information about the type of exception and the location where it occurred in the code.\n",
    "\n",
    "Exceptions can be caused by a variety of reasons, such as invalid input data, incorrect use of functions or objects, or unexpected system behavior. Some common types of exceptions in Python include NameError, TypeError, ValueError, and ZeroDivisionError."
   ]
  },
  {
   "cell_type": "markdown",
   "id": "f6bccffc-99c3-40b2-bc2f-2e8a5da6b4d8",
   "metadata": {},
   "source": [
    "The main difference between an exception and a syntax error is that an exception occurs during the execution of a program, while a syntax error occurs before the program is executed. In other words, a syntax error is a mistake in the code that prevents the program from being run, while an exception is a problem that occurs during the program's execution that causes it to terminate or behave unexpectedly.\n",
    "\n",
    "Another difference is that syntax errors are generally easier to detect and fix than exceptions since they usually result in a clear error message pointing to the location of the error in the code. Exceptions, on the other hand, can be more difficult to diagnose and fix since they can occur at any point during the program's execution and may be caused by a variety of factors."
   ]
  },
  {
   "cell_type": "markdown",
   "id": "ac8e72b0-6a78-4cfa-a91d-b81175791749",
   "metadata": {},
   "source": [
    "#### Q2. what happens when an exception is not handled? explain with examlpe."
   ]
  },
  {
   "cell_type": "markdown",
   "id": "298df9d0-56ac-41e7-8655-b99a1e18d99a",
   "metadata": {},
   "source": [
    "When an exception occurs in a Python program and is not handled, the program will terminate abruptly, and an error message will be displayed in the console or terminal. This can be problematic, especially if the program is critical and needs to run continuously or if it's being used by other programs as a library."
   ]
  },
  {
   "cell_type": "code",
   "execution_count": 2,
   "id": "7b12c043-9e17-443f-9d3f-94bb48585f72",
   "metadata": {},
   "outputs": [],
   "source": [
    "# f = open(\"nonexistent_file.txt\", \"r\")\n",
    "# try:\n",
    "#     f = open(\"nonexistent_file.txt\", \"r\")\n",
    "# except FileNotFoundError:\n",
    "#     print(\"The specified file does not exist.\")\n"
   ]
  },
  {
   "cell_type": "markdown",
   "id": "e663fb65-ca7e-46aa-bba4-2bfbed967a45",
   "metadata": {},
   "source": [
    "In this example, if the file \"nonexistent_file.txt\" does not exist, the exception will be caught by the except block, and the message \"The specified file does not exist.\" will be printed to the console instead of the program terminating abruptly."
   ]
  },
  {
   "cell_type": "markdown",
   "id": "5ec2a900-bf96-45f8-84cd-6b94e744bbc3",
   "metadata": {},
   "source": [
    "#### Q3. which statement are used to catch and handle exceptions? Explain with an example."
   ]
  },
  {
   "cell_type": "markdown",
   "id": "33b88b67-6396-42f7-bcde-2af91991fe49",
   "metadata": {},
   "source": [
    "To catch and handle exceptions in Python, we use a try-except block. The code inside the try block is executed, and if an exception occurs, the code inside the corresponding except block is executed."
   ]
  },
  {
   "cell_type": "code",
   "execution_count": 3,
   "id": "99d15505-8a38-4af3-91c2-4a623df076ea",
   "metadata": {},
   "outputs": [
    {
     "name": "stdout",
     "output_type": "stream",
     "text": [
      "Error: division by zero\n"
     ]
    }
   ],
   "source": [
    "a = 10\n",
    "b = 0\n",
    "\n",
    "try:\n",
    "    result = a / b\n",
    "    print(result)\n",
    "except ZeroDivisionError:\n",
    "    print(\"Error: division by zero\")\n"
   ]
  },
  {
   "cell_type": "markdown",
   "id": "df40f294-491e-49f3-bec8-9116b042edd6",
   "metadata": {
    "tags": []
   },
   "source": [
    "#### Q4. explain with example: \n",
    "    a try and else \n",
    "    b finally \n",
    "    c raise"
   ]
  },
  {
   "cell_type": "code",
   "execution_count": 4,
   "id": "96cf1fe1-3068-4504-8003-db7d30e174cd",
   "metadata": {},
   "outputs": [
    {
     "name": "stdin",
     "output_type": "stream",
     "text": [
      "Enter a number:  5\n"
     ]
    },
    {
     "name": "stdout",
     "output_type": "stream",
     "text": [
      "The number is: 5\n"
     ]
    }
   ],
   "source": [
    "# try-else block: The else block is executed if no exceptions are raised in the try block.\n",
    "\n",
    "try:\n",
    "    num = int(input(\"Enter a number: \"))\n",
    "except ValueError:\n",
    "    print(\"Invalid input!\")\n",
    "else:\n",
    "    print(\"The number is:\", num)\n"
   ]
  },
  {
   "cell_type": "code",
   "execution_count": 7,
   "id": "97ab0892-f734-4636-8bf8-c8f769a3dec1",
   "metadata": {},
   "outputs": [
    {
     "name": "stdout",
     "output_type": "stream",
     "text": [
      "This is the first line\n",
      "This is the second line\n",
      "This is the third line\n",
      "\n"
     ]
    }
   ],
   "source": [
    "# finally block: The finally block is always executed, whether or not an exception is raised.\n",
    "\n",
    "try:\n",
    "    file = open(\"example1.txt\", \"r\")\n",
    "    print(file.read())\n",
    "except FileNotFoundError:\n",
    "    print(\"File not found!\")\n",
    "finally:\n",
    "    file.close()"
   ]
  },
  {
   "cell_type": "code",
   "execution_count": 8,
   "id": "e815e7b0-3744-42ea-9f99-0887a35d5bb1",
   "metadata": {},
   "outputs": [
    {
     "name": "stdout",
     "output_type": "stream",
     "text": [
      "Cannot divide by zero!\n"
     ]
    }
   ],
   "source": [
    "# raise statement: The raise statement is used to raise a specific exception manually.\n",
    "\n",
    "def divide(a, b):\n",
    "    if b == 0:\n",
    "        raise ZeroDivisionError(\"Cannot divide by zero!\")\n",
    "    else:\n",
    "        return a / b\n",
    "\n",
    "try:\n",
    "    result = divide(10, 0)\n",
    "except ZeroDivisionError as e:\n",
    "    print(e)\n"
   ]
  },
  {
   "cell_type": "markdown",
   "id": "896ac226-6d5d-4f43-97e6-d325aa8cf0ea",
   "metadata": {},
   "source": [
    "#### Q5. what are Custom Exceptions in python? why do we need Custom Exceptions? Explain with example. "
   ]
  },
  {
   "cell_type": "markdown",
   "id": "3e4d1f54-6c60-4479-975c-ee0b4f495491",
   "metadata": {},
   "source": [
    "Custom exceptions in Python are user-defined exceptions that can be raised by your code to handle specific error conditions that may not be covered by the built-in exceptions. We use custom exceptions to provide more descriptive error messages and to make our code more maintainable and easier to debug."
   ]
  },
  {
   "cell_type": "code",
   "execution_count": 9,
   "id": "5268df2b-4df5-4d53-a473-c82cf3294d9b",
   "metadata": {},
   "outputs": [
    {
     "name": "stdin",
     "output_type": "stream",
     "text": [
      "enter your age -23\n"
     ]
    },
    {
     "name": "stdout",
     "output_type": "stream",
     "text": [
      "age should not be lesser than zero\n"
     ]
    }
   ],
   "source": [
    "class Validateage(Exception):\n",
    "    def __init__(self, msg):\n",
    "        self.msg = msg\n",
    "\n",
    "def validate_age(age):\n",
    "    if age < 0:\n",
    "        raise Validateage(\"age should not be lesser than zero\")\n",
    "    elif age > 200:\n",
    "        raise Validateage(\"age is too high\")\n",
    "    else:\n",
    "        print(\"age is valid\")\n",
    "        \n",
    "try :\n",
    "    age = int(input(\"enter your age\"))\n",
    "    validate_age(age)\n",
    "except Validateage as e:\n",
    "    print(e)"
   ]
  },
  {
   "cell_type": "markdown",
   "id": "7a8305dc-f517-4373-b090-c66d4e77ddfb",
   "metadata": {},
   "source": [
    "#### Q6. Create a Custom Exception class. Use this class to handle Exception."
   ]
  },
  {
   "cell_type": "code",
   "execution_count": 11,
   "id": "efd8cf9b-a91d-4281-82b3-234f79d853ba",
   "metadata": {},
   "outputs": [
    {
     "name": "stdout",
     "output_type": "stream",
     "text": [
      "Cannot divide by zero!\n"
     ]
    }
   ],
   "source": [
    "class InvalidInputError(Exception):\n",
    "    def __init__(self, msg):\n",
    "        self.msg = msg\n",
    "\n",
    "def divide(a, b):\n",
    "    if b == 0:\n",
    "        raise InvalidInputError(\"Cannot divide by zero!\")\n",
    "    else:\n",
    "        return a / b\n",
    "\n",
    "try:\n",
    "    result = divide(10, 0)\n",
    "except InvalidInputError as e:\n",
    "    print(e)\n"
   ]
  },
  {
   "cell_type": "code",
   "execution_count": null,
   "id": "a78ab9c3-9f19-4cfc-a23a-0b95b142a79e",
   "metadata": {},
   "outputs": [],
   "source": []
  }
 ],
 "metadata": {
  "kernelspec": {
   "display_name": "Python 3 (ipykernel)",
   "language": "python",
   "name": "python3"
  },
  "language_info": {
   "codemirror_mode": {
    "name": "ipython",
    "version": 3
   },
   "file_extension": ".py",
   "mimetype": "text/x-python",
   "name": "python",
   "nbconvert_exporter": "python",
   "pygments_lexer": "ipython3",
   "version": "3.10.8"
  }
 },
 "nbformat": 4,
 "nbformat_minor": 5
}
